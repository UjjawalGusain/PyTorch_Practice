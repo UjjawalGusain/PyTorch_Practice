{
  "nbformat": 4,
  "nbformat_minor": 0,
  "metadata": {
    "colab": {
      "provenance": [],
      "collapsed_sections": [
        "RSC0CPAB3z0d",
        "B5T0j4W35fJN",
        "sRGplE4h7RKt",
        "G-COR-ak1yJ1",
        "T2lLTVK02LOT",
        "S_2UpXpQ2mYz",
        "NjOd7Sz_3yRL",
        "-c8ZeAxK64Fn",
        "QIzt3tXvC5WX",
        "qWVhKe4uicSO",
        "KsdZQ2AJoZ5c",
        "1FHikPrsqht0"
      ],
      "gpuType": "T4"
    },
    "kernelspec": {
      "name": "python3",
      "display_name": "Python 3"
    },
    "language_info": {
      "name": "python"
    },
    "accelerator": "GPU"
  },
  "cells": [
    {
      "cell_type": "code",
      "execution_count": 1,
      "metadata": {
        "colab": {
          "base_uri": "https://localhost:8080/"
        },
        "id": "M_VO-Rdx24jH",
        "outputId": "366db78e-f8c2-459c-e95e-9d0a078615ae"
      },
      "outputs": [
        {
          "output_type": "stream",
          "name": "stdout",
          "text": [
            "Wed Sep 18 01:58:42 2024       \n",
            "+---------------------------------------------------------------------------------------+\n",
            "| NVIDIA-SMI 535.104.05             Driver Version: 535.104.05   CUDA Version: 12.2     |\n",
            "|-----------------------------------------+----------------------+----------------------+\n",
            "| GPU  Name                 Persistence-M | Bus-Id        Disp.A | Volatile Uncorr. ECC |\n",
            "| Fan  Temp   Perf          Pwr:Usage/Cap |         Memory-Usage | GPU-Util  Compute M. |\n",
            "|                                         |                      |               MIG M. |\n",
            "|=========================================+======================+======================|\n",
            "|   0  Tesla T4                       Off | 00000000:00:04.0 Off |                    0 |\n",
            "| N/A   69C    P8              11W /  70W |      0MiB / 15360MiB |      0%      Default |\n",
            "|                                         |                      |                  N/A |\n",
            "+-----------------------------------------+----------------------+----------------------+\n",
            "                                                                                         \n",
            "+---------------------------------------------------------------------------------------+\n",
            "| Processes:                                                                            |\n",
            "|  GPU   GI   CI        PID   Type   Process name                            GPU Memory |\n",
            "|        ID   ID                                                             Usage      |\n",
            "|=======================================================================================|\n",
            "|  No running processes found                                                           |\n",
            "+---------------------------------------------------------------------------------------+\n"
          ]
        }
      ],
      "source": [
        "!nvidia-smi"
      ]
    },
    {
      "cell_type": "code",
      "source": [
        "import pandas as pd\n",
        "import numpy as np\n",
        "import matplotlib.pyplot as plt\n",
        "\n",
        "import torch\n",
        "print(torch.__version__)"
      ],
      "metadata": {
        "colab": {
          "base_uri": "https://localhost:8080/"
        },
        "id": "5JNDrWFp3JiN",
        "outputId": "218fa842-945f-4859-acfb-dee68539b8f1"
      },
      "execution_count": 2,
      "outputs": [
        {
          "output_type": "stream",
          "name": "stdout",
          "text": [
            "2.4.0+cu121\n"
          ]
        }
      ]
    },
    {
      "cell_type": "markdown",
      "source": [
        "### Creating tensors"
      ],
      "metadata": {
        "id": "RSC0CPAB3z0d"
      }
    },
    {
      "cell_type": "code",
      "source": [
        "# scalar\n",
        "scalar = torch.tensor(7)\n",
        "scalar"
      ],
      "metadata": {
        "colab": {
          "base_uri": "https://localhost:8080/"
        },
        "id": "vMrGgn6t3Szt",
        "outputId": "84b17262-5e5e-44b0-add6-d7512c66a12c"
      },
      "execution_count": 3,
      "outputs": [
        {
          "output_type": "execute_result",
          "data": {
            "text/plain": [
              "tensor(7)"
            ]
          },
          "metadata": {},
          "execution_count": 3
        }
      ]
    },
    {
      "cell_type": "code",
      "source": [
        "scalar.ndim"
      ],
      "metadata": {
        "colab": {
          "base_uri": "https://localhost:8080/"
        },
        "id": "6X9K8t2c3yrh",
        "outputId": "9607c490-2710-44bf-d15f-9d45a31be1ce"
      },
      "execution_count": 4,
      "outputs": [
        {
          "output_type": "execute_result",
          "data": {
            "text/plain": [
              "0"
            ]
          },
          "metadata": {},
          "execution_count": 4
        }
      ]
    },
    {
      "cell_type": "code",
      "source": [
        "# Getting tensor back as int\n",
        "scalar.item()"
      ],
      "metadata": {
        "colab": {
          "base_uri": "https://localhost:8080/"
        },
        "id": "-j9zEfGi4J5S",
        "outputId": "2ff4b224-37a0-45c8-b766-3469de1b2167"
      },
      "execution_count": 5,
      "outputs": [
        {
          "output_type": "execute_result",
          "data": {
            "text/plain": [
              "7"
            ]
          },
          "metadata": {},
          "execution_count": 5
        }
      ]
    },
    {
      "cell_type": "code",
      "source": [
        "# Vector\n",
        "vector = torch.tensor([7,7])\n",
        "vector"
      ],
      "metadata": {
        "colab": {
          "base_uri": "https://localhost:8080/"
        },
        "id": "ISaknLC44aww",
        "outputId": "f5b14968-6e69-478e-c59e-1ba54b568386"
      },
      "execution_count": 6,
      "outputs": [
        {
          "output_type": "execute_result",
          "data": {
            "text/plain": [
              "tensor([7, 7])"
            ]
          },
          "metadata": {},
          "execution_count": 6
        }
      ]
    },
    {
      "cell_type": "code",
      "source": [
        "vector.ndim"
      ],
      "metadata": {
        "colab": {
          "base_uri": "https://localhost:8080/"
        },
        "id": "qSSG1ATo4iF9",
        "outputId": "be310dde-9150-43bc-bf9a-f27c158c74ad"
      },
      "execution_count": 7,
      "outputs": [
        {
          "output_type": "execute_result",
          "data": {
            "text/plain": [
              "1"
            ]
          },
          "metadata": {},
          "execution_count": 7
        }
      ]
    },
    {
      "cell_type": "code",
      "source": [
        "vector.shape"
      ],
      "metadata": {
        "colab": {
          "base_uri": "https://localhost:8080/"
        },
        "id": "4fQgJnE54rK_",
        "outputId": "9004381b-347f-4bdc-b788-78cfecfe5f48"
      },
      "execution_count": 8,
      "outputs": [
        {
          "output_type": "execute_result",
          "data": {
            "text/plain": [
              "torch.Size([2])"
            ]
          },
          "metadata": {},
          "execution_count": 8
        }
      ]
    },
    {
      "cell_type": "code",
      "source": [
        "# Matrix\n",
        "MATRIX = torch.tensor([[7,8], [9,10]])\n",
        "MATRIX"
      ],
      "metadata": {
        "colab": {
          "base_uri": "https://localhost:8080/"
        },
        "id": "7YC59gRD4uni",
        "outputId": "444675c6-d039-432b-bb8b-f03811900187"
      },
      "execution_count": 9,
      "outputs": [
        {
          "output_type": "execute_result",
          "data": {
            "text/plain": [
              "tensor([[ 7,  8],\n",
              "        [ 9, 10]])"
            ]
          },
          "metadata": {},
          "execution_count": 9
        }
      ]
    },
    {
      "cell_type": "code",
      "source": [
        "MATRIX.ndim"
      ],
      "metadata": {
        "colab": {
          "base_uri": "https://localhost:8080/"
        },
        "id": "VDyHLZUF4_Dc",
        "outputId": "4c5f9060-7df9-4110-c473-a896ee17cbc7"
      },
      "execution_count": 10,
      "outputs": [
        {
          "output_type": "execute_result",
          "data": {
            "text/plain": [
              "2"
            ]
          },
          "metadata": {},
          "execution_count": 10
        }
      ]
    },
    {
      "cell_type": "code",
      "source": [
        "MATRIX.shape"
      ],
      "metadata": {
        "colab": {
          "base_uri": "https://localhost:8080/"
        },
        "id": "ixnFgEJr5Ays",
        "outputId": "c128e4e7-d4ce-486c-effe-6c64cc804e3c"
      },
      "execution_count": 11,
      "outputs": [
        {
          "output_type": "execute_result",
          "data": {
            "text/plain": [
              "torch.Size([2, 2])"
            ]
          },
          "metadata": {},
          "execution_count": 11
        }
      ]
    },
    {
      "cell_type": "code",
      "source": [
        "# Tensor\n",
        "TENSOR = torch.tensor([[[1,2,3],\n",
        "                        [4,5,6],\n",
        "                        [7,8,9]]])\n",
        "TENSOR"
      ],
      "metadata": {
        "colab": {
          "base_uri": "https://localhost:8080/"
        },
        "id": "R6JlK2Nv5B9Q",
        "outputId": "518f8e9a-79c1-41d5-d180-28f96c36a09c"
      },
      "execution_count": 12,
      "outputs": [
        {
          "output_type": "execute_result",
          "data": {
            "text/plain": [
              "tensor([[[1, 2, 3],\n",
              "         [4, 5, 6],\n",
              "         [7, 8, 9]]])"
            ]
          },
          "metadata": {},
          "execution_count": 12
        }
      ]
    },
    {
      "cell_type": "code",
      "source": [
        "TENSOR.ndim"
      ],
      "metadata": {
        "colab": {
          "base_uri": "https://localhost:8080/"
        },
        "id": "8IgsFyET5aWq",
        "outputId": "fc0622c1-a2a9-4754-a361-818940c20e30"
      },
      "execution_count": 13,
      "outputs": [
        {
          "output_type": "execute_result",
          "data": {
            "text/plain": [
              "3"
            ]
          },
          "metadata": {},
          "execution_count": 13
        }
      ]
    },
    {
      "cell_type": "code",
      "source": [
        "TENSOR.shape"
      ],
      "metadata": {
        "colab": {
          "base_uri": "https://localhost:8080/"
        },
        "id": "hV-7PUvP5eSs",
        "outputId": "c86cf113-51fb-4f05-dcac-f01f9a3f4297"
      },
      "execution_count": 14,
      "outputs": [
        {
          "output_type": "execute_result",
          "data": {
            "text/plain": [
              "torch.Size([1, 3, 3])"
            ]
          },
          "metadata": {},
          "execution_count": 14
        }
      ]
    },
    {
      "cell_type": "markdown",
      "source": [
        "### Random Tensors"
      ],
      "metadata": {
        "id": "B5T0j4W35fJN"
      }
    },
    {
      "cell_type": "code",
      "source": [
        "# Creating random tensors\n",
        "random_tensor = torch.rand(3,4)\n",
        "random_tensor"
      ],
      "metadata": {
        "colab": {
          "base_uri": "https://localhost:8080/"
        },
        "id": "k9RNkJ6d6M6x",
        "outputId": "3752172a-bd7b-4230-d70d-cb3aae2574f2"
      },
      "execution_count": 15,
      "outputs": [
        {
          "output_type": "execute_result",
          "data": {
            "text/plain": [
              "tensor([[0.2062, 0.5869, 0.0127, 0.7394],\n",
              "        [0.5653, 0.1378, 0.4287, 0.8697],\n",
              "        [0.8905, 0.8033, 0.2285, 0.5895]])"
            ]
          },
          "metadata": {},
          "execution_count": 15
        }
      ]
    },
    {
      "cell_type": "code",
      "source": [
        "random_tensor.ndim"
      ],
      "metadata": {
        "colab": {
          "base_uri": "https://localhost:8080/"
        },
        "id": "0lKUPKXk6mi1",
        "outputId": "fee3b006-e814-4b66-ec50-adbb8d287fce"
      },
      "execution_count": 16,
      "outputs": [
        {
          "output_type": "execute_result",
          "data": {
            "text/plain": [
              "2"
            ]
          },
          "metadata": {},
          "execution_count": 16
        }
      ]
    },
    {
      "cell_type": "code",
      "source": [
        "random_tensor.shape"
      ],
      "metadata": {
        "colab": {
          "base_uri": "https://localhost:8080/"
        },
        "id": "SDDTckGL6qGu",
        "outputId": "dbdf7548-931e-4026-b76a-dd074bccc841"
      },
      "execution_count": 17,
      "outputs": [
        {
          "output_type": "execute_result",
          "data": {
            "text/plain": [
              "torch.Size([3, 4])"
            ]
          },
          "metadata": {},
          "execution_count": 17
        }
      ]
    },
    {
      "cell_type": "code",
      "source": [
        "# Creating a random tensor with similar shape of another tensor\n",
        "random_image_tensor = torch.rand(224,224,3)\n",
        "random_image_tensor.shape"
      ],
      "metadata": {
        "colab": {
          "base_uri": "https://localhost:8080/"
        },
        "id": "ZTDYR69A6slE",
        "outputId": "9a349ebc-c3f0-4922-fb58-9b136035b459"
      },
      "execution_count": 18,
      "outputs": [
        {
          "output_type": "execute_result",
          "data": {
            "text/plain": [
              "torch.Size([224, 224, 3])"
            ]
          },
          "metadata": {},
          "execution_count": 18
        }
      ]
    },
    {
      "cell_type": "markdown",
      "source": [
        "### Tensor of all zeroes"
      ],
      "metadata": {
        "id": "sRGplE4h7RKt"
      }
    },
    {
      "cell_type": "code",
      "source": [
        "zeroes_tensor = torch.zeros(3,4)\n",
        "zeroes_tensor"
      ],
      "metadata": {
        "colab": {
          "base_uri": "https://localhost:8080/"
        },
        "id": "HqW8iRMK7z85",
        "outputId": "82e255ba-61d6-4e74-d020-e003449ad5c9"
      },
      "execution_count": 19,
      "outputs": [
        {
          "output_type": "execute_result",
          "data": {
            "text/plain": [
              "tensor([[0., 0., 0., 0.],\n",
              "        [0., 0., 0., 0.],\n",
              "        [0., 0., 0., 0.]])"
            ]
          },
          "metadata": {},
          "execution_count": 19
        }
      ]
    },
    {
      "cell_type": "code",
      "source": [
        "zeroes_tensor.ndim"
      ],
      "metadata": {
        "id": "-nccxdGf75VY",
        "colab": {
          "base_uri": "https://localhost:8080/"
        },
        "outputId": "2739f286-8e28-4e7e-d07a-6e5a6bd95bff"
      },
      "execution_count": 20,
      "outputs": [
        {
          "output_type": "execute_result",
          "data": {
            "text/plain": [
              "2"
            ]
          },
          "metadata": {},
          "execution_count": 20
        }
      ]
    },
    {
      "cell_type": "code",
      "source": [
        "zeroes_tensor.shape"
      ],
      "metadata": {
        "colab": {
          "base_uri": "https://localhost:8080/"
        },
        "id": "f0XSzuwQ1vON",
        "outputId": "77f0fb7d-7e81-44d2-e83b-c0358233f8be"
      },
      "execution_count": 21,
      "outputs": [
        {
          "output_type": "execute_result",
          "data": {
            "text/plain": [
              "torch.Size([3, 4])"
            ]
          },
          "metadata": {},
          "execution_count": 21
        }
      ]
    },
    {
      "cell_type": "markdown",
      "source": [
        "### Tensor of all ones"
      ],
      "metadata": {
        "id": "G-COR-ak1yJ1"
      }
    },
    {
      "cell_type": "code",
      "source": [
        "ones_tensor = torch.ones(3,4)\n",
        "ones_tensor"
      ],
      "metadata": {
        "colab": {
          "base_uri": "https://localhost:8080/"
        },
        "id": "fsiD6cc015yM",
        "outputId": "922ee237-ca34-435e-d2e0-70d6e693ba86"
      },
      "execution_count": 22,
      "outputs": [
        {
          "output_type": "execute_result",
          "data": {
            "text/plain": [
              "tensor([[1., 1., 1., 1.],\n",
              "        [1., 1., 1., 1.],\n",
              "        [1., 1., 1., 1.]])"
            ]
          },
          "metadata": {},
          "execution_count": 22
        }
      ]
    },
    {
      "cell_type": "code",
      "source": [
        "ones_tensor.dtype"
      ],
      "metadata": {
        "colab": {
          "base_uri": "https://localhost:8080/"
        },
        "id": "A41AF97R2Fey",
        "outputId": "9f8d97b3-f8c4-422b-beb1-6561dc693d23"
      },
      "execution_count": 23,
      "outputs": [
        {
          "output_type": "execute_result",
          "data": {
            "text/plain": [
              "torch.float32"
            ]
          },
          "metadata": {},
          "execution_count": 23
        }
      ]
    },
    {
      "cell_type": "markdown",
      "source": [
        "### Creating range of tensors"
      ],
      "metadata": {
        "id": "T2lLTVK02LOT"
      }
    },
    {
      "cell_type": "code",
      "source": [
        "# Using torch.arange()\n",
        "# torch.arange(start, end, step)\n",
        "\n",
        "ones_to_100 = torch.arange(1, 100, 3)\n",
        "ones_to_100"
      ],
      "metadata": {
        "colab": {
          "base_uri": "https://localhost:8080/"
        },
        "id": "ANNGYv7U2h-H",
        "outputId": "b4e57761-21b6-407f-b0a6-31c6c43c48b0"
      },
      "execution_count": 24,
      "outputs": [
        {
          "output_type": "execute_result",
          "data": {
            "text/plain": [
              "tensor([ 1,  4,  7, 10, 13, 16, 19, 22, 25, 28, 31, 34, 37, 40, 43, 46, 49, 52,\n",
              "        55, 58, 61, 64, 67, 70, 73, 76, 79, 82, 85, 88, 91, 94, 97])"
            ]
          },
          "metadata": {},
          "execution_count": 24
        }
      ]
    },
    {
      "cell_type": "markdown",
      "source": [
        "### Creating tensor-like\n",
        "\n",
        "- To get a tensor with same same as some other tensor.\n",
        "- It can be ones_like, zeros_like"
      ],
      "metadata": {
        "id": "S_2UpXpQ2mYz"
      }
    },
    {
      "cell_type": "code",
      "source": [
        "ones_to_100_zeros = torch.zeros_like(ones_to_100)\n",
        "ones_to_100_zeros"
      ],
      "metadata": {
        "colab": {
          "base_uri": "https://localhost:8080/"
        },
        "id": "FWCtDFSy3LXK",
        "outputId": "4ecb5e07-327d-4063-d132-72ff82abe9b1"
      },
      "execution_count": 25,
      "outputs": [
        {
          "output_type": "execute_result",
          "data": {
            "text/plain": [
              "tensor([0, 0, 0, 0, 0, 0, 0, 0, 0, 0, 0, 0, 0, 0, 0, 0, 0, 0, 0, 0, 0, 0, 0, 0,\n",
              "        0, 0, 0, 0, 0, 0, 0, 0, 0])"
            ]
          },
          "metadata": {},
          "execution_count": 25
        }
      ]
    },
    {
      "cell_type": "markdown",
      "source": [
        "### Tensor Data Types\n",
        "\n",
        "**Note:**\n",
        "Issues in PyTorch and DL are of three types:\n",
        "- Not the right data type\n",
        "- Not the right shape\n",
        "- Not the right device"
      ],
      "metadata": {
        "id": "NjOd7Sz_3yRL"
      }
    },
    {
      "cell_type": "code",
      "source": [
        "# Float 32 tensor\n",
        "\n",
        "float_32 = torch.tensor (\n",
        "                          [3.0, 6.0, 9.0],\n",
        "                          dtype=torch.float32,\n",
        "                          device=None,\n",
        "                          requires_grad=False # whether to track gradients of tensor or not\n",
        "                        )\n",
        "float_32"
      ],
      "metadata": {
        "colab": {
          "base_uri": "https://localhost:8080/"
        },
        "id": "V0TujBP04JnL",
        "outputId": "5223b452-d09f-42dd-fc13-f5086d3f9cb5"
      },
      "execution_count": 26,
      "outputs": [
        {
          "output_type": "execute_result",
          "data": {
            "text/plain": [
              "tensor([3., 6., 9.])"
            ]
          },
          "metadata": {},
          "execution_count": 26
        }
      ]
    },
    {
      "cell_type": "code",
      "source": [
        "float_16 = float_32.type(torch.float16)\n",
        "float_16"
      ],
      "metadata": {
        "colab": {
          "base_uri": "https://localhost:8080/"
        },
        "id": "VQ17k2xA4mZf",
        "outputId": "c7fb80c5-fec2-4456-82b7-96d1fa79c8ba"
      },
      "execution_count": 27,
      "outputs": [
        {
          "output_type": "execute_result",
          "data": {
            "text/plain": [
              "tensor([3., 6., 9.], dtype=torch.float16)"
            ]
          },
          "metadata": {},
          "execution_count": 27
        }
      ]
    },
    {
      "cell_type": "code",
      "source": [
        "float_32 * float_16"
      ],
      "metadata": {
        "colab": {
          "base_uri": "https://localhost:8080/"
        },
        "id": "VjJ7Ej4A6Bzj",
        "outputId": "40fe862b-8105-4e31-971f-a01b2d33d8f5"
      },
      "execution_count": 28,
      "outputs": [
        {
          "output_type": "execute_result",
          "data": {
            "text/plain": [
              "tensor([ 9., 36., 81.])"
            ]
          },
          "metadata": {},
          "execution_count": 28
        }
      ]
    },
    {
      "cell_type": "code",
      "source": [
        "int_32_tensor = float_32.type(torch.int32)\n",
        "int_32_tensor"
      ],
      "metadata": {
        "colab": {
          "base_uri": "https://localhost:8080/"
        },
        "id": "vE7xFGFU6ZRQ",
        "outputId": "1a4db6cd-9929-4cc9-fefa-046433b19e57"
      },
      "execution_count": 29,
      "outputs": [
        {
          "output_type": "execute_result",
          "data": {
            "text/plain": [
              "tensor([3, 6, 9], dtype=torch.int32)"
            ]
          },
          "metadata": {},
          "execution_count": 29
        }
      ]
    },
    {
      "cell_type": "code",
      "source": [
        "float_32 * int_32_tensor"
      ],
      "metadata": {
        "colab": {
          "base_uri": "https://localhost:8080/"
        },
        "id": "VRYw6_076z7t",
        "outputId": "f2bdd177-92c7-4d9b-cf23-fa5a6bf8e88c"
      },
      "execution_count": 30,
      "outputs": [
        {
          "output_type": "execute_result",
          "data": {
            "text/plain": [
              "tensor([ 9., 36., 81.])"
            ]
          },
          "metadata": {},
          "execution_count": 30
        }
      ]
    },
    {
      "cell_type": "markdown",
      "source": [
        "### Getting information from Tensors"
      ],
      "metadata": {
        "id": "-c8ZeAxK64Fn"
      }
    },
    {
      "cell_type": "code",
      "source": [
        "r_tensor = torch.rand(2,3,4)\n",
        "r_tensor"
      ],
      "metadata": {
        "colab": {
          "base_uri": "https://localhost:8080/"
        },
        "id": "lT91psth7WIs",
        "outputId": "e9c78c73-0707-4900-e498-78aac48199a6"
      },
      "execution_count": 31,
      "outputs": [
        {
          "output_type": "execute_result",
          "data": {
            "text/plain": [
              "tensor([[[0.3867, 0.6277, 0.1471, 0.5911],\n",
              "         [0.8015, 0.5513, 0.2467, 0.8963],\n",
              "         [0.9269, 0.2499, 0.7145, 0.6893]],\n",
              "\n",
              "        [[0.2581, 0.3707, 0.2009, 0.7280],\n",
              "         [0.3780, 0.6044, 0.0868, 0.0189],\n",
              "         [0.8490, 0.3618, 0.2086, 0.7700]]])"
            ]
          },
          "metadata": {},
          "execution_count": 31
        }
      ]
    },
    {
      "cell_type": "code",
      "source": [
        "r_tensor.shape, r_tensor.dtype, r_tensor.device"
      ],
      "metadata": {
        "colab": {
          "base_uri": "https://localhost:8080/"
        },
        "id": "eDdszABN7iCN",
        "outputId": "12ae5003-989a-45f2-c08c-452e1f934952"
      },
      "execution_count": 32,
      "outputs": [
        {
          "output_type": "execute_result",
          "data": {
            "text/plain": [
              "(torch.Size([2, 3, 4]), torch.float32, device(type='cpu'))"
            ]
          },
          "metadata": {},
          "execution_count": 32
        }
      ]
    },
    {
      "cell_type": "markdown",
      "source": [
        "### Tensor operations\n",
        "\n",
        "Common operations:\n",
        "\n",
        "- Addition\n",
        "- Subtraction\n",
        "- Multiplication (element-wise)\n",
        "- Division\n",
        "- Matrix Multiplication\n"
      ],
      "metadata": {
        "id": "QIzt3tXvC5WX"
      }
    },
    {
      "cell_type": "code",
      "source": [
        "t = torch.tensor([1,2,3])\n",
        "t"
      ],
      "metadata": {
        "id": "q1OCby4b7nGn",
        "colab": {
          "base_uri": "https://localhost:8080/"
        },
        "outputId": "f63eee07-48f2-4144-ae88-46fad65f6681"
      },
      "execution_count": 33,
      "outputs": [
        {
          "output_type": "execute_result",
          "data": {
            "text/plain": [
              "tensor([1, 2, 3])"
            ]
          },
          "metadata": {},
          "execution_count": 33
        }
      ]
    },
    {
      "cell_type": "code",
      "source": [
        "t+10"
      ],
      "metadata": {
        "colab": {
          "base_uri": "https://localhost:8080/"
        },
        "id": "ylnuMgZLDOr-",
        "outputId": "a1a6e976-48b5-47d1-936d-ff7e697e669f"
      },
      "execution_count": 34,
      "outputs": [
        {
          "output_type": "execute_result",
          "data": {
            "text/plain": [
              "tensor([11, 12, 13])"
            ]
          },
          "metadata": {},
          "execution_count": 34
        }
      ]
    },
    {
      "cell_type": "code",
      "source": [
        "t*10"
      ],
      "metadata": {
        "colab": {
          "base_uri": "https://localhost:8080/"
        },
        "id": "klKiZnl2DPRq",
        "outputId": "85e95871-0b84-434a-82ba-63903044f4af"
      },
      "execution_count": 35,
      "outputs": [
        {
          "output_type": "execute_result",
          "data": {
            "text/plain": [
              "tensor([10, 20, 30])"
            ]
          },
          "metadata": {},
          "execution_count": 35
        }
      ]
    },
    {
      "cell_type": "code",
      "source": [
        "t-10"
      ],
      "metadata": {
        "id": "s8zzy8EGDQK1",
        "colab": {
          "base_uri": "https://localhost:8080/"
        },
        "outputId": "1a51940b-e2b2-4b67-afde-8186b67a66d3"
      },
      "execution_count": 36,
      "outputs": [
        {
          "output_type": "execute_result",
          "data": {
            "text/plain": [
              "tensor([-9, -8, -7])"
            ]
          },
          "metadata": {},
          "execution_count": 36
        }
      ]
    },
    {
      "cell_type": "code",
      "source": [
        "torch.mul(t, 10)"
      ],
      "metadata": {
        "colab": {
          "base_uri": "https://localhost:8080/"
        },
        "id": "Yx4o_G2gc8nW",
        "outputId": "a412835f-5aa7-456c-cb9d-837ecfdac599"
      },
      "execution_count": 37,
      "outputs": [
        {
          "output_type": "execute_result",
          "data": {
            "text/plain": [
              "tensor([10, 20, 30])"
            ]
          },
          "metadata": {},
          "execution_count": 37
        }
      ]
    },
    {
      "cell_type": "code",
      "source": [
        "t * t"
      ],
      "metadata": {
        "colab": {
          "base_uri": "https://localhost:8080/"
        },
        "id": "TQ4vhyL4dEBj",
        "outputId": "0e477de7-3e3e-4f19-8f2d-3926c2f086b2"
      },
      "execution_count": 38,
      "outputs": [
        {
          "output_type": "execute_result",
          "data": {
            "text/plain": [
              "tensor([1, 4, 9])"
            ]
          },
          "metadata": {},
          "execution_count": 38
        }
      ]
    },
    {
      "cell_type": "code",
      "source": [
        "torch.matmul(t, t) # Matrix multiplication"
      ],
      "metadata": {
        "colab": {
          "base_uri": "https://localhost:8080/"
        },
        "id": "aZO3kxjSd_Mg",
        "outputId": "7decf750-cab9-4a3d-8d3a-f215461f2883"
      },
      "execution_count": 39,
      "outputs": [
        {
          "output_type": "execute_result",
          "data": {
            "text/plain": [
              "tensor(14)"
            ]
          },
          "metadata": {},
          "execution_count": 39
        }
      ]
    },
    {
      "cell_type": "code",
      "source": [
        "1*1 + 2*2 + 3*3"
      ],
      "metadata": {
        "colab": {
          "base_uri": "https://localhost:8080/"
        },
        "id": "algX_PrjeKHl",
        "outputId": "b98d37dc-c0d7-4edb-b048-bbfafa70f9de"
      },
      "execution_count": 40,
      "outputs": [
        {
          "output_type": "execute_result",
          "data": {
            "text/plain": [
              "14"
            ]
          },
          "metadata": {},
          "execution_count": 40
        }
      ]
    },
    {
      "cell_type": "code",
      "source": [
        "t @ t # matmul is more clearer though"
      ],
      "metadata": {
        "colab": {
          "base_uri": "https://localhost:8080/"
        },
        "id": "5izQWpaihLQq",
        "outputId": "6e8360f1-cb05-46e8-8bfe-296cdb435eaf"
      },
      "execution_count": 41,
      "outputs": [
        {
          "output_type": "execute_result",
          "data": {
            "text/plain": [
              "tensor(14)"
            ]
          },
          "metadata": {},
          "execution_count": 41
        }
      ]
    },
    {
      "cell_type": "code",
      "source": [
        "# inner dimensions must match\n",
        "\n",
        "torch.matmul( torch.rand(3,2) , torch.rand(2,5) ), torch.matmul( torch.rand(3,2) , torch.rand(2,5) ).shape"
      ],
      "metadata": {
        "colab": {
          "base_uri": "https://localhost:8080/"
        },
        "id": "P4y0XF5KiHbP",
        "outputId": "d795d9ae-8eb4-41e0-959d-c77a1684df30"
      },
      "execution_count": 42,
      "outputs": [
        {
          "output_type": "execute_result",
          "data": {
            "text/plain": [
              "(tensor([[0.8974, 0.5909, 0.7146, 0.7775, 0.3887],\n",
              "         [0.4375, 0.2776, 0.3927, 0.3528, 0.1964],\n",
              "         [0.9681, 0.5839, 0.9985, 0.7043, 0.4550]]),\n",
              " torch.Size([3, 5]))"
            ]
          },
          "metadata": {},
          "execution_count": 42
        }
      ]
    },
    {
      "cell_type": "code",
      "source": [
        "# torch.matmul( torch.rand(3,2) , torch.rand(3,2) ) # won't work"
      ],
      "metadata": {
        "id": "vNvkMsaeiYOm"
      },
      "execution_count": 43,
      "outputs": []
    },
    {
      "cell_type": "markdown",
      "source": [
        "### **Transposing a Tensor**"
      ],
      "metadata": {
        "id": "qWVhKe4uicSO"
      }
    },
    {
      "cell_type": "code",
      "source": [
        "tens = torch.rand(3,4,5)\n",
        "tens.shape"
      ],
      "metadata": {
        "colab": {
          "base_uri": "https://localhost:8080/"
        },
        "id": "0tPohUhGjrTP",
        "outputId": "ed90530a-0abc-4e48-86da-a2fe5f746e2f"
      },
      "execution_count": 44,
      "outputs": [
        {
          "output_type": "execute_result",
          "data": {
            "text/plain": [
              "torch.Size([3, 4, 5])"
            ]
          },
          "metadata": {},
          "execution_count": 44
        }
      ]
    },
    {
      "cell_type": "code",
      "source": [
        "tt = torch.rand(3,4)\n",
        "tt.shape, tt.T.shape"
      ],
      "metadata": {
        "colab": {
          "base_uri": "https://localhost:8080/"
        },
        "id": "wW3PcDR2kRz8",
        "outputId": "a0582576-c849-497d-ef58-587cc8fd36f8"
      },
      "execution_count": 45,
      "outputs": [
        {
          "output_type": "execute_result",
          "data": {
            "text/plain": [
              "(torch.Size([3, 4]), torch.Size([4, 3]))"
            ]
          },
          "metadata": {},
          "execution_count": 45
        }
      ]
    },
    {
      "cell_type": "code",
      "source": [
        "tens.mT.shape # For multiple dimensional tensors"
      ],
      "metadata": {
        "colab": {
          "base_uri": "https://localhost:8080/"
        },
        "id": "Ho56wUmQj9Fw",
        "outputId": "1da89832-c74b-416f-c446-a18e6f47393c"
      },
      "execution_count": 46,
      "outputs": [
        {
          "output_type": "execute_result",
          "data": {
            "text/plain": [
              "torch.Size([3, 5, 4])"
            ]
          },
          "metadata": {},
          "execution_count": 46
        }
      ]
    },
    {
      "cell_type": "code",
      "source": [
        "tensor = torch.arange(1, 6)\n",
        "tensor"
      ],
      "metadata": {
        "colab": {
          "base_uri": "https://localhost:8080/"
        },
        "id": "LYIh3KPYkBmk",
        "outputId": "2d57a515-d8e0-47d9-88ab-c520d262bdbe"
      },
      "execution_count": 47,
      "outputs": [
        {
          "output_type": "execute_result",
          "data": {
            "text/plain": [
              "tensor([1, 2, 3, 4, 5])"
            ]
          },
          "metadata": {},
          "execution_count": 47
        }
      ]
    },
    {
      "cell_type": "code",
      "source": [
        "torch.mean(tensor.type(torch.float32))"
      ],
      "metadata": {
        "colab": {
          "base_uri": "https://localhost:8080/"
        },
        "id": "z3x5Irj8mp5G",
        "outputId": "56aecf69-8c5e-4231-cce2-7c41b7c8bbdc"
      },
      "execution_count": 48,
      "outputs": [
        {
          "output_type": "execute_result",
          "data": {
            "text/plain": [
              "tensor(3.)"
            ]
          },
          "metadata": {},
          "execution_count": 48
        }
      ]
    },
    {
      "cell_type": "code",
      "source": [
        "torch.min(tensor)"
      ],
      "metadata": {
        "colab": {
          "base_uri": "https://localhost:8080/"
        },
        "id": "aypOA2kvm_mj",
        "outputId": "5aeaa499-d525-4ab0-8524-a36bde01b8f5"
      },
      "execution_count": 49,
      "outputs": [
        {
          "output_type": "execute_result",
          "data": {
            "text/plain": [
              "tensor(1)"
            ]
          },
          "metadata": {},
          "execution_count": 49
        }
      ]
    },
    {
      "cell_type": "code",
      "source": [
        "torch.max(tensor)"
      ],
      "metadata": {
        "colab": {
          "base_uri": "https://localhost:8080/"
        },
        "id": "EQKVmmSqn9fH",
        "outputId": "361d8b39-9606-48fa-9081-de9bcbc67b27"
      },
      "execution_count": 50,
      "outputs": [
        {
          "output_type": "execute_result",
          "data": {
            "text/plain": [
              "tensor(5)"
            ]
          },
          "metadata": {},
          "execution_count": 50
        }
      ]
    },
    {
      "cell_type": "code",
      "source": [
        "torch.sum(tensor)"
      ],
      "metadata": {
        "colab": {
          "base_uri": "https://localhost:8080/"
        },
        "id": "xOKppuFLn_-L",
        "outputId": "d766f2d5-9540-4605-d56e-6ef25705f4f5"
      },
      "execution_count": 51,
      "outputs": [
        {
          "output_type": "execute_result",
          "data": {
            "text/plain": [
              "tensor(15)"
            ]
          },
          "metadata": {},
          "execution_count": 51
        }
      ]
    },
    {
      "cell_type": "markdown",
      "source": [
        "### Finding the positional min and max"
      ],
      "metadata": {
        "id": "KsdZQ2AJoZ5c"
      }
    },
    {
      "cell_type": "code",
      "source": [
        "# Position of minimum value with argmin()\n",
        "tensor.argmin()"
      ],
      "metadata": {
        "id": "k48SriL0oreM",
        "colab": {
          "base_uri": "https://localhost:8080/"
        },
        "outputId": "f505a21c-b962-4fcc-cd79-ed2e04b3d700"
      },
      "execution_count": 52,
      "outputs": [
        {
          "output_type": "execute_result",
          "data": {
            "text/plain": [
              "tensor(0)"
            ]
          },
          "metadata": {},
          "execution_count": 52
        }
      ]
    },
    {
      "cell_type": "code",
      "source": [
        "tensor.argmax()"
      ],
      "metadata": {
        "colab": {
          "base_uri": "https://localhost:8080/"
        },
        "id": "AdDVQzx5pgvW",
        "outputId": "738ddf2c-25c9-4eb2-d9e3-c363283fbb68"
      },
      "execution_count": 53,
      "outputs": [
        {
          "output_type": "execute_result",
          "data": {
            "text/plain": [
              "tensor(4)"
            ]
          },
          "metadata": {},
          "execution_count": 53
        }
      ]
    },
    {
      "cell_type": "code",
      "source": [
        "tensor[0]"
      ],
      "metadata": {
        "colab": {
          "base_uri": "https://localhost:8080/"
        },
        "id": "QVmWcJU-qELI",
        "outputId": "e6407cb5-ac3b-47f9-bde2-154ec7a35551"
      },
      "execution_count": 54,
      "outputs": [
        {
          "output_type": "execute_result",
          "data": {
            "text/plain": [
              "tensor(1)"
            ]
          },
          "metadata": {},
          "execution_count": 54
        }
      ]
    },
    {
      "cell_type": "markdown",
      "source": [
        "### Reshape, stacking, squeezing adn unsqueezing tensors\n",
        "\n",
        "Rule:\n",
        "- Reshaping - reshapes tensor into another defined shape\n",
        "- View - return a view of an input tensor of certain shape but keep the same memory of the original tensor (If the values in view are changed, the priginal tensors value will also be changed, but the shape remains.)\n",
        "- Stack - stacking tensors on top of each other or side by side\n",
        "- Squeeze - removes all 1 dimension tensors from a multi dimenional tensors\n",
        "- Unsqueeze - opposite of last one\n",
        "- Permute - Return a view of the input with dimensions permuted in a certain way"
      ],
      "metadata": {
        "id": "1FHikPrsqht0"
      }
    },
    {
      "cell_type": "code",
      "source": [
        "x = torch.arange(1., 10.)\n",
        "x, x.shape"
      ],
      "metadata": {
        "colab": {
          "base_uri": "https://localhost:8080/"
        },
        "id": "YfuJ5BcFqvrj",
        "outputId": "ec935ea5-d232-40da-da8a-867188d5fe5e"
      },
      "execution_count": 55,
      "outputs": [
        {
          "output_type": "execute_result",
          "data": {
            "text/plain": [
              "(tensor([1., 2., 3., 4., 5., 6., 7., 8., 9.]), torch.Size([9]))"
            ]
          },
          "metadata": {},
          "execution_count": 55
        }
      ]
    },
    {
      "cell_type": "code",
      "source": [
        "# Adding extra dimensions\n",
        "x_reshaped = x.reshape(1, 9)\n",
        "x_reshaped, x_reshaped.shape"
      ],
      "metadata": {
        "colab": {
          "base_uri": "https://localhost:8080/"
        },
        "id": "kp3XtLgxQY0V",
        "outputId": "53d0c4ce-2b66-47eb-be34-3fd0b5f6a4c0"
      },
      "execution_count": 56,
      "outputs": [
        {
          "output_type": "execute_result",
          "data": {
            "text/plain": [
              "(tensor([[1., 2., 3., 4., 5., 6., 7., 8., 9.]]), torch.Size([1, 9]))"
            ]
          },
          "metadata": {},
          "execution_count": 56
        }
      ]
    },
    {
      "cell_type": "code",
      "source": [
        "# Changing the view\n",
        "z = x.view(9, 1)\n",
        "z, z.shape"
      ],
      "metadata": {
        "colab": {
          "base_uri": "https://localhost:8080/"
        },
        "id": "Za_zyU1YQ1uE",
        "outputId": "21acac99-afef-476b-8239-dcae79513231"
      },
      "execution_count": 57,
      "outputs": [
        {
          "output_type": "execute_result",
          "data": {
            "text/plain": [
              "(tensor([[1.],\n",
              "         [2.],\n",
              "         [3.],\n",
              "         [4.],\n",
              "         [5.],\n",
              "         [6.],\n",
              "         [7.],\n",
              "         [8.],\n",
              "         [9.]]),\n",
              " torch.Size([9, 1]))"
            ]
          },
          "metadata": {},
          "execution_count": 57
        }
      ]
    },
    {
      "cell_type": "code",
      "source": [
        "z[:, 0] = 5\n",
        "z, x"
      ],
      "metadata": {
        "colab": {
          "base_uri": "https://localhost:8080/"
        },
        "id": "3CXc3StyRcEC",
        "outputId": "608baa41-d1a0-4d08-b57a-6af3d7bfb4f9"
      },
      "execution_count": 58,
      "outputs": [
        {
          "output_type": "execute_result",
          "data": {
            "text/plain": [
              "(tensor([[5.],\n",
              "         [5.],\n",
              "         [5.],\n",
              "         [5.],\n",
              "         [5.],\n",
              "         [5.],\n",
              "         [5.],\n",
              "         [5.],\n",
              "         [5.]]),\n",
              " tensor([5., 5., 5., 5., 5., 5., 5., 5., 5.]))"
            ]
          },
          "metadata": {},
          "execution_count": 58
        }
      ]
    },
    {
      "cell_type": "code",
      "source": [
        "x"
      ],
      "metadata": {
        "colab": {
          "base_uri": "https://localhost:8080/"
        },
        "id": "uz2mrpcbRevu",
        "outputId": "46f028f4-b77e-474c-e01a-3eb41259bcb0"
      },
      "execution_count": 59,
      "outputs": [
        {
          "output_type": "execute_result",
          "data": {
            "text/plain": [
              "tensor([5., 5., 5., 5., 5., 5., 5., 5., 5.])"
            ]
          },
          "metadata": {},
          "execution_count": 59
        }
      ]
    },
    {
      "cell_type": "code",
      "source": [
        "# Stack tensors on top of each other\n",
        "x_stacked = torch.stack([x, x, x, x], dim = 0) # Vertically stacked\n",
        "x_stacked"
      ],
      "metadata": {
        "colab": {
          "base_uri": "https://localhost:8080/"
        },
        "id": "GFWGS0UeRyAD",
        "outputId": "dcdd0b5e-bcbc-4b6b-ff72-eb877e3477b2"
      },
      "execution_count": 60,
      "outputs": [
        {
          "output_type": "execute_result",
          "data": {
            "text/plain": [
              "tensor([[5., 5., 5., 5., 5., 5., 5., 5., 5.],\n",
              "        [5., 5., 5., 5., 5., 5., 5., 5., 5.],\n",
              "        [5., 5., 5., 5., 5., 5., 5., 5., 5.],\n",
              "        [5., 5., 5., 5., 5., 5., 5., 5., 5.]])"
            ]
          },
          "metadata": {},
          "execution_count": 60
        }
      ]
    },
    {
      "cell_type": "code",
      "source": [
        "x_stacked = torch.stack([x, x, x, x], dim = 1) # Horizontally stacked\n",
        "x_stacked"
      ],
      "metadata": {
        "colab": {
          "base_uri": "https://localhost:8080/"
        },
        "id": "AVrpkEsjSWXx",
        "outputId": "1880c94e-6bbd-4a50-afb8-2173b62e24ef"
      },
      "execution_count": 61,
      "outputs": [
        {
          "output_type": "execute_result",
          "data": {
            "text/plain": [
              "tensor([[5., 5., 5., 5.],\n",
              "        [5., 5., 5., 5.],\n",
              "        [5., 5., 5., 5.],\n",
              "        [5., 5., 5., 5.],\n",
              "        [5., 5., 5., 5.],\n",
              "        [5., 5., 5., 5.],\n",
              "        [5., 5., 5., 5.],\n",
              "        [5., 5., 5., 5.],\n",
              "        [5., 5., 5., 5.]])"
            ]
          },
          "metadata": {},
          "execution_count": 61
        }
      ]
    },
    {
      "cell_type": "code",
      "source": [
        "# Squeeze\n",
        "\n",
        "xx = torch.rand(2,3)\n",
        "xx"
      ],
      "metadata": {
        "id": "4cyUKDmzSZt9",
        "colab": {
          "base_uri": "https://localhost:8080/"
        },
        "outputId": "6ef5c69e-49fa-4549-8997-19bdf07f40b1"
      },
      "execution_count": 62,
      "outputs": [
        {
          "output_type": "execute_result",
          "data": {
            "text/plain": [
              "tensor([[0.3422, 0.8106, 0.3296],\n",
              "        [0.6682, 0.9267, 0.9516]])"
            ]
          },
          "metadata": {},
          "execution_count": 62
        }
      ]
    },
    {
      "cell_type": "code",
      "source": [
        "xx.squeeze() # Removes all single dimensions from the target tensor"
      ],
      "metadata": {
        "colab": {
          "base_uri": "https://localhost:8080/"
        },
        "id": "9CyXTrlloZT_",
        "outputId": "5dda42d0-7d1d-4811-d160-893cd56c967c"
      },
      "execution_count": 63,
      "outputs": [
        {
          "output_type": "execute_result",
          "data": {
            "text/plain": [
              "tensor([[0.3422, 0.8106, 0.3296],\n",
              "        [0.6682, 0.9267, 0.9516]])"
            ]
          },
          "metadata": {},
          "execution_count": 63
        }
      ]
    },
    {
      "cell_type": "code",
      "source": [
        "x = xx.reshape(3,1,1,2)\n",
        "x.shape"
      ],
      "metadata": {
        "colab": {
          "base_uri": "https://localhost:8080/"
        },
        "id": "653ilDVPoase",
        "outputId": "feb6f8cb-99cc-452a-a612-45e793adcd90"
      },
      "execution_count": 64,
      "outputs": [
        {
          "output_type": "execute_result",
          "data": {
            "text/plain": [
              "torch.Size([3, 1, 1, 2])"
            ]
          },
          "metadata": {},
          "execution_count": 64
        }
      ]
    },
    {
      "cell_type": "code",
      "source": [
        "x.squeeze().shape"
      ],
      "metadata": {
        "colab": {
          "base_uri": "https://localhost:8080/"
        },
        "id": "biUwBGB2on8U",
        "outputId": "ee538e55-1f12-416f-8d6a-86d52d86bf8d"
      },
      "execution_count": 65,
      "outputs": [
        {
          "output_type": "execute_result",
          "data": {
            "text/plain": [
              "torch.Size([3, 2])"
            ]
          },
          "metadata": {},
          "execution_count": 65
        }
      ]
    },
    {
      "cell_type": "code",
      "source": [
        "x.squeeze().shape"
      ],
      "metadata": {
        "colab": {
          "base_uri": "https://localhost:8080/"
        },
        "id": "qUtkH_WopFk1",
        "outputId": "964b28ad-c6e1-4627-f8c4-07f47a6adaea"
      },
      "execution_count": 66,
      "outputs": [
        {
          "output_type": "execute_result",
          "data": {
            "text/plain": [
              "torch.Size([3, 2])"
            ]
          },
          "metadata": {},
          "execution_count": 66
        }
      ]
    },
    {
      "cell_type": "code",
      "source": [
        "# Adds a single dimension\n",
        "x.squeeze().unsqueeze(0).shape, x.squeeze().unsqueeze(1).shape, x.squeeze().unsqueeze(2).shape"
      ],
      "metadata": {
        "colab": {
          "base_uri": "https://localhost:8080/"
        },
        "id": "LVTLmU5Ppe8D",
        "outputId": "071592e5-290e-4a23-dc3c-c00dc2ce7d4c"
      },
      "execution_count": 67,
      "outputs": [
        {
          "output_type": "execute_result",
          "data": {
            "text/plain": [
              "(torch.Size([1, 3, 2]), torch.Size([3, 1, 2]), torch.Size([3, 2, 1]))"
            ]
          },
          "metadata": {},
          "execution_count": 67
        }
      ]
    },
    {
      "cell_type": "code",
      "source": [
        "x = torch.rand(4,5,6)\n",
        "x.shape"
      ],
      "metadata": {
        "colab": {
          "base_uri": "https://localhost:8080/"
        },
        "id": "F_ye8WLbpggW",
        "outputId": "a8f63b44-3200-4fed-f45a-5f95fc9e9250"
      },
      "execution_count": 68,
      "outputs": [
        {
          "output_type": "execute_result",
          "data": {
            "text/plain": [
              "torch.Size([4, 5, 6])"
            ]
          },
          "metadata": {},
          "execution_count": 68
        }
      ]
    },
    {
      "cell_type": "code",
      "source": [
        "x = x.permute(2,0,1)\n",
        "x.shape"
      ],
      "metadata": {
        "colab": {
          "base_uri": "https://localhost:8080/"
        },
        "id": "HPLueek_sVZR",
        "outputId": "1194fc2b-5316-4093-8757-62293f5b71af"
      },
      "execution_count": 69,
      "outputs": [
        {
          "output_type": "execute_result",
          "data": {
            "text/plain": [
              "torch.Size([6, 4, 5])"
            ]
          },
          "metadata": {},
          "execution_count": 69
        }
      ]
    },
    {
      "cell_type": "code",
      "source": [
        "x[0, 0, 0].item()"
      ],
      "metadata": {
        "colab": {
          "base_uri": "https://localhost:8080/"
        },
        "id": "e9ua6Lhqsis5",
        "outputId": "37bddfcd-9cb4-47f6-d55e-a3ef3a4e2977"
      },
      "execution_count": 70,
      "outputs": [
        {
          "output_type": "execute_result",
          "data": {
            "text/plain": [
              "0.42480963468551636"
            ]
          },
          "metadata": {},
          "execution_count": 70
        }
      ]
    },
    {
      "cell_type": "markdown",
      "source": [
        "### Indexing (Selecting Data in Tensors)"
      ],
      "metadata": {
        "id": "ca-bEA1bsvNM"
      }
    },
    {
      "cell_type": "code",
      "source": [
        "import torch\n",
        "\n",
        "x = torch.arange(1,10).reshape(1,3,3)\n",
        "x, x.shape"
      ],
      "metadata": {
        "colab": {
          "base_uri": "https://localhost:8080/"
        },
        "id": "_rJ9ne5DuMmK",
        "outputId": "0ad6cb42-bf76-40f0-c8cb-4e2fe6c88aef"
      },
      "execution_count": 71,
      "outputs": [
        {
          "output_type": "execute_result",
          "data": {
            "text/plain": [
              "(tensor([[[1, 2, 3],\n",
              "          [4, 5, 6],\n",
              "          [7, 8, 9]]]),\n",
              " torch.Size([1, 3, 3]))"
            ]
          },
          "metadata": {},
          "execution_count": 71
        }
      ]
    },
    {
      "cell_type": "code",
      "source": [
        "x[0][0], x[0, 0] # Both are not same"
      ],
      "metadata": {
        "colab": {
          "base_uri": "https://localhost:8080/"
        },
        "id": "TYjxGb2AuchW",
        "outputId": "d0aff777-133b-47f4-8ea0-b1ad89deb171"
      },
      "execution_count": 72,
      "outputs": [
        {
          "output_type": "execute_result",
          "data": {
            "text/plain": [
              "(tensor([1, 2, 3]), tensor([1, 2, 3]))"
            ]
          },
          "metadata": {},
          "execution_count": 72
        }
      ]
    },
    {
      "cell_type": "code",
      "source": [
        "x"
      ],
      "metadata": {
        "colab": {
          "base_uri": "https://localhost:8080/"
        },
        "id": "h6QMKL8ss40e",
        "outputId": "a30f1240-b557-44ec-bd15-251e8caa6629"
      },
      "execution_count": 73,
      "outputs": [
        {
          "output_type": "execute_result",
          "data": {
            "text/plain": [
              "tensor([[[1, 2, 3],\n",
              "         [4, 5, 6],\n",
              "         [7, 8, 9]]])"
            ]
          },
          "metadata": {},
          "execution_count": 73
        }
      ]
    },
    {
      "cell_type": "code",
      "source": [
        "x[0, 2, 2]"
      ],
      "metadata": {
        "colab": {
          "base_uri": "https://localhost:8080/"
        },
        "id": "Q6q3D7PHsuwt",
        "outputId": "0148596f-65d8-4cad-b968-25c20e65081b"
      },
      "execution_count": 74,
      "outputs": [
        {
          "output_type": "execute_result",
          "data": {
            "text/plain": [
              "tensor(9)"
            ]
          },
          "metadata": {},
          "execution_count": 74
        }
      ]
    },
    {
      "cell_type": "code",
      "source": [
        "x[0, :, 2]"
      ],
      "metadata": {
        "colab": {
          "base_uri": "https://localhost:8080/"
        },
        "id": "r_c_xrO2tu3j",
        "outputId": "bfb98a29-787e-4429-8a2d-ab2578a6d20e"
      },
      "execution_count": 75,
      "outputs": [
        {
          "output_type": "execute_result",
          "data": {
            "text/plain": [
              "tensor([3, 6, 9])"
            ]
          },
          "metadata": {},
          "execution_count": 75
        }
      ]
    },
    {
      "cell_type": "markdown",
      "source": [
        "### PyTorch tensors and NumPy"
      ],
      "metadata": {
        "id": "HEEXLweruglU"
      }
    },
    {
      "cell_type": "code",
      "source": [
        "# Numpy Array to Tensor\n",
        "\n",
        "import torch\n",
        "import numpy as np\n",
        "\n",
        "arr = np.arange(1.0, 8.0)\n",
        "tensor = torch.from_numpy(arr)\n",
        "\n",
        "arr, tensor # numpy default dtype is float64, unlike pytorch tensor which is float64"
      ],
      "metadata": {
        "colab": {
          "base_uri": "https://localhost:8080/"
        },
        "id": "_hxzWJ2MuseG",
        "outputId": "6a1e3715-dd68-4937-b152-799ccf815d63"
      },
      "execution_count": 76,
      "outputs": [
        {
          "output_type": "execute_result",
          "data": {
            "text/plain": [
              "(array([1., 2., 3., 4., 5., 6., 7.]),\n",
              " tensor([1., 2., 3., 4., 5., 6., 7.], dtype=torch.float64))"
            ]
          },
          "metadata": {},
          "execution_count": 76
        }
      ]
    },
    {
      "cell_type": "code",
      "source": [
        "arr = arr + 1\n",
        "arr, tensor # no change in tensor if numpy changed"
      ],
      "metadata": {
        "colab": {
          "base_uri": "https://localhost:8080/"
        },
        "id": "arlZ7oq6vQRf",
        "outputId": "18d23733-e784-4856-f9d9-78c549f1e6a6"
      },
      "execution_count": 77,
      "outputs": [
        {
          "output_type": "execute_result",
          "data": {
            "text/plain": [
              "(array([2., 3., 4., 5., 6., 7., 8.]),\n",
              " tensor([1., 2., 3., 4., 5., 6., 7.], dtype=torch.float64))"
            ]
          },
          "metadata": {},
          "execution_count": 77
        }
      ]
    },
    {
      "cell_type": "code",
      "source": [
        "# Tensor to NumPy\n",
        "\n",
        "tensor = torch.arange(1., 11.)\n",
        "numpy_arr = tensor.numpy()\n",
        "tensor, numpy_arr # no change in numpy if tensor changed"
      ],
      "metadata": {
        "colab": {
          "base_uri": "https://localhost:8080/"
        },
        "id": "AuwaEfnUvQ-9",
        "outputId": "6b02f667-7125-4378-b2a9-94e2cc85ca8c"
      },
      "execution_count": 78,
      "outputs": [
        {
          "output_type": "execute_result",
          "data": {
            "text/plain": [
              "(tensor([ 1.,  2.,  3.,  4.,  5.,  6.,  7.,  8.,  9., 10.]),\n",
              " array([ 1.,  2.,  3.,  4.,  5.,  6.,  7.,  8.,  9., 10.], dtype=float32))"
            ]
          },
          "metadata": {},
          "execution_count": 78
        }
      ]
    },
    {
      "cell_type": "markdown",
      "source": [
        "### Reproducibilty\n",
        "Trying to take random out of random"
      ],
      "metadata": {
        "id": "LqRV7x-NvoTL"
      }
    },
    {
      "cell_type": "code",
      "source": [
        "import torch\n",
        "\n",
        "random_a = torch.rand(3, 4)\n",
        "random_b = torch.rand(3, 4)\n",
        "\n",
        "random_a, random_b, random_a == random_b # Highly unlikely that a will be equal to b\n",
        "\n",
        "# So we need to seed this randomness"
      ],
      "metadata": {
        "colab": {
          "base_uri": "https://localhost:8080/"
        },
        "id": "cM6c-zS_v6xT",
        "outputId": "034258a9-628a-4ace-bcfd-283400b9f4f7"
      },
      "execution_count": 79,
      "outputs": [
        {
          "output_type": "execute_result",
          "data": {
            "text/plain": [
              "(tensor([[0.2460, 0.9840, 0.2252, 0.9166],\n",
              "         [0.1705, 0.6889, 0.7004, 0.6052],\n",
              "         [0.4985, 0.6122, 0.4990, 0.0222]]),\n",
              " tensor([[0.5061, 0.1798, 0.3669, 0.2033],\n",
              "         [0.3384, 0.0201, 0.9290, 0.9664],\n",
              "         [0.8674, 0.4028, 0.8399, 0.7680]]),\n",
              " tensor([[False, False, False, False],\n",
              "         [False, False, False, False],\n",
              "         [False, False, False, False]]))"
            ]
          },
          "metadata": {},
          "execution_count": 79
        }
      ]
    },
    {
      "cell_type": "code",
      "source": [
        "RANDOM_SEED = 10\n",
        "\n",
        "\n",
        "torch.manual_seed(RANDOM_SEED) # need to be used everytime we are using torch\n",
        "random_a = torch.rand(3, 4)\n",
        "\n",
        "torch.manual_seed(RANDOM_SEED) # need to be used everytime we are using torch\n",
        "random_b = torch.rand(3, 4)\n",
        "\n",
        "random_a, random_b, random_a == random_b"
      ],
      "metadata": {
        "colab": {
          "base_uri": "https://localhost:8080/"
        },
        "id": "9NAOo-AlwtTX",
        "outputId": "74c3119f-9704-4377-81dd-9a48b094b774"
      },
      "execution_count": 80,
      "outputs": [
        {
          "output_type": "execute_result",
          "data": {
            "text/plain": [
              "(tensor([[0.4581, 0.4829, 0.3125, 0.6150],\n",
              "         [0.2139, 0.4118, 0.6938, 0.9693],\n",
              "         [0.6178, 0.3304, 0.5479, 0.4440]]),\n",
              " tensor([[0.4581, 0.4829, 0.3125, 0.6150],\n",
              "         [0.2139, 0.4118, 0.6938, 0.9693],\n",
              "         [0.6178, 0.3304, 0.5479, 0.4440]]),\n",
              " tensor([[True, True, True, True],\n",
              "         [True, True, True, True],\n",
              "         [True, True, True, True]]))"
            ]
          },
          "metadata": {},
          "execution_count": 80
        }
      ]
    },
    {
      "cell_type": "markdown",
      "source": [
        "### Using GPU's in PyTorch"
      ],
      "metadata": {
        "id": "UUttlMw2xsgw"
      }
    },
    {
      "cell_type": "code",
      "source": [
        "import torch\n",
        "\n",
        "!nvidia-smi # You know how to use it"
      ],
      "metadata": {
        "colab": {
          "base_uri": "https://localhost:8080/"
        },
        "id": "ZbDhPiZuxxFX",
        "outputId": "7581b250-948e-4a7c-d793-0fb7057dadda"
      },
      "execution_count": 81,
      "outputs": [
        {
          "output_type": "stream",
          "name": "stdout",
          "text": [
            "Wed Sep 18 01:58:49 2024       \n",
            "+---------------------------------------------------------------------------------------+\n",
            "| NVIDIA-SMI 535.104.05             Driver Version: 535.104.05   CUDA Version: 12.2     |\n",
            "|-----------------------------------------+----------------------+----------------------+\n",
            "| GPU  Name                 Persistence-M | Bus-Id        Disp.A | Volatile Uncorr. ECC |\n",
            "| Fan  Temp   Perf          Pwr:Usage/Cap |         Memory-Usage | GPU-Util  Compute M. |\n",
            "|                                         |                      |               MIG M. |\n",
            "|=========================================+======================+======================|\n",
            "|   0  Tesla T4                       Off | 00000000:00:04.0 Off |                    0 |\n",
            "| N/A   68C    P8              11W /  70W |      0MiB / 15360MiB |      0%      Default |\n",
            "|                                         |                      |                  N/A |\n",
            "+-----------------------------------------+----------------------+----------------------+\n",
            "                                                                                         \n",
            "+---------------------------------------------------------------------------------------+\n",
            "| Processes:                                                                            |\n",
            "|  GPU   GI   CI        PID   Type   Process name                            GPU Memory |\n",
            "|        ID   ID                                                             Usage      |\n",
            "|=======================================================================================|\n",
            "|  No running processes found                                                           |\n",
            "+---------------------------------------------------------------------------------------+\n"
          ]
        }
      ]
    },
    {
      "cell_type": "code",
      "source": [
        "torch.cuda.is_available()"
      ],
      "metadata": {
        "colab": {
          "base_uri": "https://localhost:8080/"
        },
        "id": "tMs8ZixRyhm-",
        "outputId": "406b1928-4a3c-4393-cc7d-45ba5fa6e34f"
      },
      "execution_count": 82,
      "outputs": [
        {
          "output_type": "execute_result",
          "data": {
            "text/plain": [
              "True"
            ]
          },
          "metadata": {},
          "execution_count": 82
        }
      ]
    },
    {
      "cell_type": "markdown",
      "source": [
        "### Setting up device agnostic code"
      ],
      "metadata": {
        "id": "W-641Ie-0WL7"
      }
    },
    {
      "cell_type": "code",
      "source": [
        "import torch"
      ],
      "metadata": {
        "id": "9ggDTxgn0e7C"
      },
      "execution_count": 83,
      "outputs": []
    },
    {
      "cell_type": "code",
      "source": [
        "device = \"cuda\" if torch.cuda.is_available() else \"cpu\"\n",
        "device"
      ],
      "metadata": {
        "colab": {
          "base_uri": "https://localhost:8080/",
          "height": 36
        },
        "id": "37akajUY0giy",
        "outputId": "a51b8081-7e51-495c-8c3a-2db19e5b6401"
      },
      "execution_count": 84,
      "outputs": [
        {
          "output_type": "execute_result",
          "data": {
            "text/plain": [
              "'cuda'"
            ],
            "application/vnd.google.colaboratory.intrinsic+json": {
              "type": "string"
            }
          },
          "metadata": {},
          "execution_count": 84
        }
      ]
    },
    {
      "cell_type": "code",
      "source": [
        "# Count number of devices\n",
        "torch.cuda.device_count()"
      ],
      "metadata": {
        "colab": {
          "base_uri": "https://localhost:8080/"
        },
        "id": "1PRnXz490nEL",
        "outputId": "dbe6fc37-ed91-4d67-c4ab-a8be4eda66aa"
      },
      "execution_count": 85,
      "outputs": [
        {
          "output_type": "execute_result",
          "data": {
            "text/plain": [
              "1"
            ]
          },
          "metadata": {},
          "execution_count": 85
        }
      ]
    },
    {
      "cell_type": "markdown",
      "source": [
        "### Putting Tensors and models on GPU"
      ],
      "metadata": {
        "id": "SsiL08Xs0vV_"
      }
    },
    {
      "cell_type": "code",
      "source": [
        "import torch\n",
        "\n",
        "tensor = torch.tensor([1,2,3,4,5,6])\n",
        "\n",
        "tensor, tensor.device"
      ],
      "metadata": {
        "colab": {
          "base_uri": "https://localhost:8080/"
        },
        "id": "cZXldKUm1UW_",
        "outputId": "28c54d5d-2082-433d-e16a-24f33767ab99"
      },
      "execution_count": 86,
      "outputs": [
        {
          "output_type": "execute_result",
          "data": {
            "text/plain": [
              "(tensor([1, 2, 3, 4, 5, 6]), device(type='cpu'))"
            ]
          },
          "metadata": {},
          "execution_count": 86
        }
      ]
    },
    {
      "cell_type": "code",
      "source": [
        "tensor_on_gpu = tensor.to(device)\n",
        "tensor_on_gpu, tensor_on_gpu.device"
      ],
      "metadata": {
        "colab": {
          "base_uri": "https://localhost:8080/"
        },
        "id": "_MQyaTw_1ah1",
        "outputId": "2a3a0cfd-a4c3-4085-a9ea-4ac4d01ff538"
      },
      "execution_count": 87,
      "outputs": [
        {
          "output_type": "execute_result",
          "data": {
            "text/plain": [
              "(tensor([1, 2, 3, 4, 5, 6], device='cuda:0'), device(type='cuda', index=0))"
            ]
          },
          "metadata": {},
          "execution_count": 87
        }
      ]
    },
    {
      "cell_type": "code",
      "source": [
        "### If tensor is on GPU, can't tranform it to NumPy\n",
        "\n",
        "tensor_on_cpu = tensor_on_gpu.cpu().numpy()\n",
        "tensor_on_cpu"
      ],
      "metadata": {
        "colab": {
          "base_uri": "https://localhost:8080/"
        },
        "id": "fCr3d7o21iDE",
        "outputId": "681af3e7-1f22-4f13-a178-3e9154fba290"
      },
      "execution_count": 88,
      "outputs": [
        {
          "output_type": "execute_result",
          "data": {
            "text/plain": [
              "array([1, 2, 3, 4, 5, 6])"
            ]
          },
          "metadata": {},
          "execution_count": 88
        }
      ]
    },
    {
      "cell_type": "markdown",
      "source": [
        "# And we are done with the basics woohoooo!!!!\n",
        "\n",
        "### Now, we will practice PyTorch workflow in another notebook"
      ],
      "metadata": {
        "id": "iuKSM7iB1_p2"
      }
    }
  ]
}