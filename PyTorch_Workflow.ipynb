{
  "nbformat": 4,
  "nbformat_minor": 0,
  "metadata": {
    "colab": {
      "provenance": []
    },
    "kernelspec": {
      "name": "python3",
      "display_name": "Python 3"
    },
    "language_info": {
      "name": "python"
    }
  },
  "cells": [
    {
      "cell_type": "markdown",
      "source": [
        "### How does a PyTorch Basic Workflow look like\n",
        "\n",
        "- Data (prepare and load)\n",
        "- Build Model\n",
        "- Fitting the model to data\n",
        "- Making predicitons and evaluation a model(inferencing)\n",
        "- Improve through experimentation(optimizing)\n",
        "- Saving and loading a model\n",
        "- Putting it all together"
      ],
      "metadata": {
        "id": "SPZTOVCa3yoN"
      }
    },
    {
      "cell_type": "code",
      "source": [
        "import torch\n",
        "from torch import nn ## contains all the basic building blocks for pytorch neural networks\n",
        "import matplotlib.pyplot as plt\n",
        "\n",
        "torch.__version__"
      ],
      "metadata": {
        "colab": {
          "base_uri": "https://localhost:8080/",
          "height": 36
        },
        "id": "N4eGS9Gl4lEY",
        "outputId": "7817c57f-e8a8-447d-c9e4-fe1b63f5b220"
      },
      "execution_count": null,
      "outputs": [
        {
          "output_type": "execute_result",
          "data": {
            "text/plain": [
              "'2.4.0+cu121'"
            ],
            "application/vnd.google.colaboratory.intrinsic+json": {
              "type": "string"
            }
          },
          "metadata": {},
          "execution_count": 248
        }
      ]
    },
    {
      "cell_type": "markdown",
      "source": [
        "### Data (Preparing and loading)\n",
        "\n",
        "- Data can be almost anything\n",
        "- Get all the type of data in numerical format"
      ],
      "metadata": {
        "id": "dmcka2zR4x0E"
      }
    },
    {
      "cell_type": "code",
      "source": [
        "# Create known parameters\n",
        "weight = 0.7\n",
        "bias = 0.3\n",
        "\n",
        "# Create\n",
        "start = 0\n",
        "end = 1\n",
        "step = 0.02\n",
        "X = torch.arange(start, end, step).unsqueeze(dim = 1)\n",
        "y = weight * X + bias\n",
        "\n",
        "X[:10], y[:10], len(X), len(y)"
      ],
      "metadata": {
        "colab": {
          "base_uri": "https://localhost:8080/"
        },
        "id": "BTbJ1UKx5g0J",
        "outputId": "49c04b30-1829-416a-8441-02b13261f64c"
      },
      "execution_count": null,
      "outputs": [
        {
          "output_type": "execute_result",
          "data": {
            "text/plain": [
              "(tensor([[0.0000],\n",
              "         [0.0200],\n",
              "         [0.0400],\n",
              "         [0.0600],\n",
              "         [0.0800],\n",
              "         [0.1000],\n",
              "         [0.1200],\n",
              "         [0.1400],\n",
              "         [0.1600],\n",
              "         [0.1800]]),\n",
              " tensor([[0.3000],\n",
              "         [0.3140],\n",
              "         [0.3280],\n",
              "         [0.3420],\n",
              "         [0.3560],\n",
              "         [0.3700],\n",
              "         [0.3840],\n",
              "         [0.3980],\n",
              "         [0.4120],\n",
              "         [0.4260]]),\n",
              " 50,\n",
              " 50)"
            ]
          },
          "metadata": {},
          "execution_count": 249
        }
      ]
    },
    {
      "cell_type": "markdown",
      "source": [
        "### Train, val and test split"
      ],
      "metadata": {
        "id": "UcM29-fd8Kl-"
      }
    },
    {
      "cell_type": "code",
      "source": [
        "train_split = int(0.8 * len(X))\n",
        "X_train, y_train = X[:train_split], y[:train_split]\n",
        "\n",
        "X_test, y_test = X[train_split:], y[train_split:]\n",
        "\n",
        "len(X_train), len(y_train), len(X_test), len(y_test)"
      ],
      "metadata": {
        "colab": {
          "base_uri": "https://localhost:8080/"
        },
        "id": "FYuor_jD9FAI",
        "outputId": "0f31c241-b67e-4c24-d9dd-57d0be1c0106"
      },
      "execution_count": null,
      "outputs": [
        {
          "output_type": "execute_result",
          "data": {
            "text/plain": [
              "(40, 40, 10, 10)"
            ]
          },
          "metadata": {},
          "execution_count": 250
        }
      ]
    },
    {
      "cell_type": "code",
      "source": [
        "def plot_predictions(train_data = X_train,\n",
        "                     train_labels = y_train,\n",
        "                     test_data = X_test,\n",
        "                     test_labels = y_test,\n",
        "                     predictions = None) :\n",
        "\n",
        "  \"\"\"\n",
        "    Plots training data, test data and compare\n",
        "  \"\"\"\n",
        "\n",
        "  plt.figure(figsize=(10, 7))\n",
        "\n",
        "  plt.scatter(train_data, train_labels, c=\"b\", s=4, label=\"Training data\")\n",
        "\n",
        "  plt.scatter(test_data, test_labels, c=\"g\", s=4, label=\"Testing data\")\n",
        "\n",
        "  if predictions is not None:\n",
        "    plt.scatter(test_data, predictions, c=\"r\", s=4, label=\"Predictions data\")\n",
        "\n",
        "  plt.legend(prop={\"size\":14})"
      ],
      "metadata": {
        "id": "Y5iNLR6I9wDB"
      },
      "execution_count": null,
      "outputs": []
    },
    {
      "cell_type": "code",
      "source": [
        "plot_predictions()"
      ],
      "metadata": {
        "colab": {
          "base_uri": "https://localhost:8080/",
          "height": 467
        },
        "id": "0Uw92f1zAHnW",
        "outputId": "e137c7e7-ae0d-400b-e10f-25e094548ca9"
      },
      "execution_count": null,
      "outputs": [
        {
          "output_type": "display_data",
          "data": {
            "text/plain": [
              "<Figure size 1000x700 with 1 Axes>"
            ],
            "image/png": "[encoded data removed]"
          },
          "metadata": {}
        }
      ]
    },
    {
      "cell_type": "markdown",
      "source": [
        "### Building a model"
      ],
      "metadata": {
        "id": "0tvCJhEgAQdM"
      }
    },
    {
      "cell_type": "code",
      "source": [
        "from torch import nn\n",
        "# Linear regression\n",
        "\n",
        "class LinearRegressionModel(nn.Module): # nn.Module subclass should be there if you are creating a PyTorch model\n",
        "  def __init__(self):\n",
        "    super().__init__() # to call init function of subclass\n",
        "\n",
        "    # nn.Parameter is used to assign which tensors to be specified as learnable parameters\n",
        "    self.weights = nn.Parameter(torch.randn(1,\n",
        "                                            requires_grad=True, # can  this paramtere be updated by gradient descent\n",
        "                                            dtype=torch.float32))\n",
        "    self.bias = nn.Parameter(torch.randn(1,\n",
        "                                         requires_grad=True,\n",
        "                                         dtype=torch.float32))\n",
        "\n",
        "  # Forward method\n",
        "  def forward(self, x: torch.Tensor) -> torch.Tensor:\n",
        "    return self.weights * x + self.bias\n",
        "\n"
      ],
      "metadata": {
        "id": "8BFewjzKApJr"
      },
      "execution_count": null,
      "outputs": []
    },
    {
      "cell_type": "markdown",
      "source": [
        "### Checking contents of our PyTorch model"
      ],
      "metadata": {
        "id": "Of-wrcdwsHve"
      }
    },
    {
      "cell_type": "code",
      "source": [
        "# Creating random seed\n",
        "\n",
        "torch.manual_seed(10)\n",
        "\n",
        "# Creating instance of the model(this is subclass of the model we created)\n",
        "model_0 = LinearRegressionModel()\n",
        "\n",
        "# Check out the parameters\n",
        "list(model_0.parameters())"
      ],
      "metadata": {
        "colab": {
          "base_uri": "https://localhost:8080/"
        },
        "id": "rBlQeh-DsNff",
        "outputId": "59824d0c-2e3f-46d0-8ae0-9cc77d7e6cce"
      },
      "execution_count": null,
      "outputs": [
        {
          "output_type": "execute_result",
          "data": {
            "text/plain": [
              "[Parameter containing:\n",
              " tensor([-0.6014], requires_grad=True),\n",
              " Parameter containing:\n",
              " tensor([-1.0122], requires_grad=True)]"
            ]
          },
          "metadata": {},
          "execution_count": 254
        }
      ]
    },
    {
      "cell_type": "code",
      "source": [
        "model_0.state_dict()"
      ],
      "metadata": {
        "colab": {
          "base_uri": "https://localhost:8080/"
        },
        "id": "1SA4ehUgscAB",
        "outputId": "c6b6f7ce-21d5-4a59-bd8a-49e818499d02"
      },
      "execution_count": null,
      "outputs": [
        {
          "output_type": "execute_result",
          "data": {
            "text/plain": [
              "OrderedDict([('weights', tensor([-0.6014])), ('bias', tensor([-1.0122]))])"
            ]
          },
          "metadata": {},
          "execution_count": 255
        }
      ]
    },
    {
      "cell_type": "markdown",
      "source": [
        "### Make predictions using `torch.inference_mode()`"
      ],
      "metadata": {
        "id": "d7CqSsx6t_2c"
      }
    },
    {
      "cell_type": "code",
      "source": [
        "# Making predictions\n",
        "\n",
        "with torch.inference_mode(): # Inference mode turns off the gradient tracking\n",
        "  y_pred = model_0(X_test)\n",
        "\n",
        "y_pred"
      ],
      "metadata": {
        "colab": {
          "base_uri": "https://localhost:8080/"
        },
        "id": "7rtibK3culOI",
        "outputId": "b8daa05b-0ec2-4a77-c601-f00e2359679d"
      },
      "execution_count": null,
      "outputs": [
        {
          "output_type": "execute_result",
          "data": {
            "text/plain": [
              "tensor([[-1.4933],\n",
              "        [-1.5054],\n",
              "        [-1.5174],\n",
              "        [-1.5294],\n",
              "        [-1.5414],\n",
              "        [-1.5535],\n",
              "        [-1.5655],\n",
              "        [-1.5775],\n",
              "        [-1.5895],\n",
              "        [-1.6016]])"
            ]
          },
          "metadata": {},
          "execution_count": 256
        }
      ]
    },
    {
      "cell_type": "code",
      "source": [
        "plot_predictions(predictions=y_pred)"
      ],
      "metadata": {
        "colab": {
          "base_uri": "https://localhost:8080/",
          "height": 461
        },
        "id": "XuEHFZ2Ju4tF",
        "outputId": "d5305d2f-b608-439e-eb3a-5e5f7363feda"
      },
      "execution_count": null,
      "outputs": [
        {
          "output_type": "display_data",
          "data": {
            "text/plain": [
              "<Figure size 1000x700 with 1 Axes>"
            ],
            "image/png": "[encoded data removed]"
          },
          "metadata": {}
        }
      ]
    },
    {
      "cell_type": "markdown",
      "source": [
        "### Training the model\n",
        "\n",
        "Things needed to train the model:\n",
        "- **Loss function**: to measure how wrong your model is.\n",
        "- **Optimizer**: takes into account the loss of a model and adjusts the model's parameters.\n",
        "\n",
        "### For PyTorch, we need:\n",
        "- A training loop\n",
        "- A testing loop"
      ],
      "metadata": {
        "id": "0eQwwe7SvkDy"
      }
    },
    {
      "cell_type": "code",
      "source": [
        "list(model_0.parameters())"
      ],
      "metadata": {
        "id": "h3HTlOPpx9u-",
        "colab": {
          "base_uri": "https://localhost:8080/"
        },
        "outputId": "2b01fc83-7292-4637-aec2-8c387aaf260c"
      },
      "execution_count": null,
      "outputs": [
        {
          "output_type": "execute_result",
          "data": {
            "text/plain": [
              "[Parameter containing:\n",
              " tensor([-0.6014], requires_grad=True),\n",
              " Parameter containing:\n",
              " tensor([-1.0122], requires_grad=True)]"
            ]
          },
          "metadata": {},
          "execution_count": 258
        }
      ]
    },
    {
      "cell_type": "code",
      "source": [
        "# Setting up a loss function\n",
        "loss_func = nn.L1Loss()\n",
        "\n",
        "# Setting up an optimizer\n",
        "optimizer = torch.optim.SGD(model_0.parameters(),\n",
        "                            lr=0.01)"
      ],
      "metadata": {
        "id": "Fn5rqP71HBi5"
      },
      "execution_count": null,
      "outputs": []
    },
    {
      "cell_type": "markdown",
      "source": [
        "### Building a Training Loop in PyTorch\n",
        "\n",
        "- Loop through the data\n",
        "- Forward propogation/pass(this involves data moving through our 'forward()' functions)\n",
        "- Calculate the loss (compare forward pass predictions to ground truth labels)\n",
        "- Optimizer zero grad\n",
        "- Loss backward - Backward propogation to calculate gradients of each of the parameteres of our model\n",
        "- Optimizer step - use the optimizer to adjust our model's parameters to try and improve the loss (**gradient descent**)"
      ],
      "metadata": {
        "id": "wHBf_Cf0_5hD"
      }
    },
    {
      "cell_type": "code",
      "source": [
        "# One epoch means one loop through the data\n",
        "torch.manual_seed(42)\n",
        "epochs = 500\n",
        "\n",
        "# Track important values\n",
        "epoch_count = []\n",
        "training_loss_values = []\n",
        "test_loss_values = []\n",
        "\n",
        "# 1. Loop through the data\n",
        "for epoch in range(epochs):\n",
        "\n",
        "  # Setting model to training mode\n",
        "  model_0.train() # train mode in PyTorch sets all parameters that require gradients to require gradients\n",
        "\n",
        "  # 2. Forward pass\n",
        "  y_pred = model_0(X_train)\n",
        "\n",
        "  # 3. Calculate the loss\n",
        "  loss = loss_func(y_pred, y_train)\n",
        "  # print(\"Loss: \", loss)\n",
        "\n",
        "  # 4. Optimizer zero grad\n",
        "  optimizer.zero_grad() # => Turning optimizer to zero, or else the calculated value of the optimizer at the previous epoch will be used and it will accumulate overtime\n",
        "  # basically sets all gradients of parametres to 0\n",
        "\n",
        "  # 5. Backward pass/propogation: Performing back propogation on **loss** wrt parameters of the model\n",
        "  loss.backward()\n",
        "\n",
        "  # 6. Step the optimizer (performing gradient descent)\n",
        "  optimizer.step()\n",
        "\n",
        "  #### Testing\n",
        "  model_0.eval() # turns off different settings in the model not needed for evaluation (dropout layers)\n",
        "  with torch.inference_mode(): # turns off gradient tracking behing the scene\n",
        "    # 1. Do the forward pass\n",
        "    test_pred = model_0(X_test)\n",
        "\n",
        "    # 2. Calculate the loss\n",
        "    test_loss = loss_func(test_pred, y_test)\n",
        "\n",
        "  if epoch % 10 == 0 :\n",
        "    epoch_count.append(epoch)\n",
        "    training_loss_values.append(loss)\n",
        "    test_loss_values.append(test_loss)\n",
        "    print(f\"Epoch: {epoch} | Train Loss: {loss.item()} | Test Loss : {test_loss}\")\n",
        "    print(f\"{model_0.state_dict()}\")\n",
        "\n"
      ],
      "metadata": {
        "colab": {
          "base_uri": "https://localhost:8080/"
        },
        "id": "VlcjHkhkBIt_",
        "outputId": "541a2958-e369-4320-92e6-65077ea1be66"
      },
      "execution_count": null,
      "outputs": [
        {
          "output_type": "stream",
          "name": "stdout",
          "text": [
            "Epoch: 0 | Train Loss: 1.8197532892227173 | Test Loss : 2.4569783210754395\n",
            "OrderedDict([('weights', tensor([-0.5975])), ('bias', tensor([-1.0022]))])\n",
            "Epoch: 10 | Train Loss: 1.704543113708496 | Test Loss : 2.3222687244415283\n",
            "OrderedDict([('weights', tensor([-0.5585])), ('bias', tensor([-0.9022]))])\n",
            "Epoch: 20 | Train Loss: 1.589333176612854 | Test Loss : 2.187558650970459\n",
            "OrderedDict([('weights', tensor([-0.5195])), ('bias', tensor([-0.8022]))])\n",
            "Epoch: 30 | Train Loss: 1.474123239517212 | Test Loss : 2.052849054336548\n",
            "OrderedDict([('weights', tensor([-0.4805])), ('bias', tensor([-0.7022]))])\n",
            "Epoch: 40 | Train Loss: 1.358913540840149 | Test Loss : 1.918139100074768\n",
            "OrderedDict([('weights', tensor([-0.4415])), ('bias', tensor([-0.6022]))])\n",
            "Epoch: 50 | Train Loss: 1.2437036037445068 | Test Loss : 1.7834293842315674\n",
            "OrderedDict([('weights', tensor([-0.4025])), ('bias', tensor([-0.5022]))])\n",
            "Epoch: 60 | Train Loss: 1.1284937858581543 | Test Loss : 1.6487194299697876\n",
            "OrderedDict([('weights', tensor([-0.3635])), ('bias', tensor([-0.4022]))])\n",
            "Epoch: 70 | Train Loss: 1.0132839679718018 | Test Loss : 1.514009714126587\n",
            "OrderedDict([('weights', tensor([-0.3245])), ('bias', tensor([-0.3022]))])\n",
            "Epoch: 80 | Train Loss: 0.8980739712715149 | Test Loss : 1.3792996406555176\n",
            "OrderedDict([('weights', tensor([-0.2855])), ('bias', tensor([-0.2022]))])\n",
            "Epoch: 90 | Train Loss: 0.782863974571228 | Test Loss : 1.2445898056030273\n",
            "OrderedDict([('weights', tensor([-0.2465])), ('bias', tensor([-0.1022]))])\n",
            "Epoch: 100 | Train Loss: 0.6676539182662964 | Test Loss : 1.109879732131958\n",
            "OrderedDict([('weights', tensor([-0.2075])), ('bias', tensor([-0.0022]))])\n",
            "Epoch: 110 | Train Loss: 0.5524438619613647 | Test Loss : 0.9751695394515991\n",
            "OrderedDict([('weights', tensor([-0.1685])), ('bias', tensor([0.0978]))])\n",
            "Epoch: 120 | Train Loss: 0.4372338652610779 | Test Loss : 0.8404595255851746\n",
            "OrderedDict([('weights', tensor([-0.1295])), ('bias', tensor([0.1978]))])\n",
            "Epoch: 130 | Train Loss: 0.32202383875846863 | Test Loss : 0.7057495713233948\n",
            "OrderedDict([('weights', tensor([-0.0905])), ('bias', tensor([0.2978]))])\n",
            "Epoch: 140 | Train Loss: 0.23033234477043152 | Test Loss : 0.5864400863647461\n",
            "OrderedDict([('weights', tensor([-0.0519])), ('bias', tensor([0.3828]))])\n",
            "Epoch: 150 | Train Loss: 0.17953214049339294 | Test Loss : 0.49486446380615234\n",
            "OrderedDict([('weights', tensor([-0.0159])), ('bias', tensor([0.4423]))])\n",
            "Epoch: 160 | Train Loss: 0.15167845785617828 | Test Loss : 0.42668861150741577\n",
            "OrderedDict([('weights', tensor([0.0163])), ('bias', tensor([0.4818]))])\n",
            "Epoch: 170 | Train Loss: 0.13667868077754974 | Test Loss : 0.37635037302970886\n",
            "OrderedDict([('weights', tensor([0.0448])), ('bias', tensor([0.5068]))])\n",
            "Epoch: 180 | Train Loss: 0.12784352898597717 | Test Loss : 0.33941352367401123\n",
            "OrderedDict([('weights', tensor([0.0700])), ('bias', tensor([0.5213]))])\n",
            "Epoch: 190 | Train Loss: 0.12217150628566742 | Test Loss : 0.3129417896270752\n",
            "OrderedDict([('weights', tensor([0.0924])), ('bias', tensor([0.5278]))])\n",
            "Epoch: 200 | Train Loss: 0.11779867112636566 | Test Loss : 0.2931344509124756\n",
            "OrderedDict([('weights', tensor([0.1130])), ('bias', tensor([0.5293]))])\n",
            "Epoch: 210 | Train Loss: 0.11390528827905655 | Test Loss : 0.2773685157299042\n",
            "OrderedDict([('weights', tensor([0.1324])), ('bias', tensor([0.5278]))])\n",
            "Epoch: 220 | Train Loss: 0.11041527986526489 | Test Loss : 0.2663487493991852\n",
            "OrderedDict([('weights', tensor([0.1504])), ('bias', tensor([0.5228]))])\n",
            "Epoch: 230 | Train Loss: 0.10692526400089264 | Test Loss : 0.2553289532661438\n",
            "OrderedDict([('weights', tensor([0.1684])), ('bias', tensor([0.5178]))])\n",
            "Epoch: 240 | Train Loss: 0.10343525558710098 | Test Loss : 0.2443091869354248\n",
            "OrderedDict([('weights', tensor([0.1864])), ('bias', tensor([0.5128]))])\n",
            "Epoch: 250 | Train Loss: 0.09994524717330933 | Test Loss : 0.233289435505867\n",
            "OrderedDict([('weights', tensor([0.2044])), ('bias', tensor([0.5078]))])\n",
            "Epoch: 260 | Train Loss: 0.09650256484746933 | Test Loss : 0.22501711547374725\n",
            "OrderedDict([('weights', tensor([0.2216])), ('bias', tensor([0.5008]))])\n",
            "Epoch: 270 | Train Loss: 0.09306763112545013 | Test Loss : 0.21674466133117676\n",
            "OrderedDict([('weights', tensor([0.2387])), ('bias', tensor([0.4938]))])\n",
            "Epoch: 280 | Train Loss: 0.08962909877300262 | Test Loss : 0.20915904641151428\n",
            "OrderedDict([('weights', tensor([0.2557])), ('bias', tensor([0.4863]))])\n",
            "Epoch: 290 | Train Loss: 0.08620065450668335 | Test Loss : 0.20088651776313782\n",
            "OrderedDict([('weights', tensor([0.2728])), ('bias', tensor([0.4793]))])\n",
            "Epoch: 300 | Train Loss: 0.08276401460170746 | Test Loss : 0.19261397421360016\n",
            "OrderedDict([('weights', tensor([0.2900])), ('bias', tensor([0.4723]))])\n",
            "Epoch: 310 | Train Loss: 0.07932716608047485 | Test Loss : 0.1850283145904541\n",
            "OrderedDict([('weights', tensor([0.3069])), ('bias', tensor([0.4648]))])\n",
            "Epoch: 320 | Train Loss: 0.07589872181415558 | Test Loss : 0.17675578594207764\n",
            "OrderedDict([('weights', tensor([0.3241])), ('bias', tensor([0.4578]))])\n",
            "Epoch: 330 | Train Loss: 0.07246040552854538 | Test Loss : 0.16848322749137878\n",
            "OrderedDict([('weights', tensor([0.3413])), ('bias', tensor([0.4508]))])\n",
            "Epoch: 340 | Train Loss: 0.06902523338794708 | Test Loss : 0.16089756786823273\n",
            "OrderedDict([('weights', tensor([0.3582])), ('bias', tensor([0.4433]))])\n",
            "Epoch: 350 | Train Loss: 0.0655955895781517 | Test Loss : 0.15262503921985626\n",
            "OrderedDict([('weights', tensor([0.3754])), ('bias', tensor([0.4363]))])\n",
            "Epoch: 360 | Train Loss: 0.062156785279512405 | Test Loss : 0.1443524807691574\n",
            "OrderedDict([('weights', tensor([0.3925])), ('bias', tensor([0.4293]))])\n",
            "Epoch: 370 | Train Loss: 0.058723293244838715 | Test Loss : 0.13676682114601135\n",
            "OrderedDict([('weights', tensor([0.4095])), ('bias', tensor([0.4218]))])\n",
            "Epoch: 380 | Train Loss: 0.05529197305440903 | Test Loss : 0.1284942924976349\n",
            "OrderedDict([('weights', tensor([0.4266])), ('bias', tensor([0.4148]))])\n",
            "Epoch: 390 | Train Loss: 0.05185316875576973 | Test Loss : 0.12022173404693604\n",
            "OrderedDict([('weights', tensor([0.4438])), ('bias', tensor([0.4078]))])\n",
            "Epoch: 400 | Train Loss: 0.04842136427760124 | Test Loss : 0.11263608932495117\n",
            "OrderedDict([('weights', tensor([0.4608])), ('bias', tensor([0.4003]))])\n",
            "Epoch: 410 | Train Loss: 0.044988349080085754 | Test Loss : 0.10436353832483292\n",
            "OrderedDict([('weights', tensor([0.4779])), ('bias', tensor([0.3933]))])\n",
            "Epoch: 420 | Train Loss: 0.04154954478144646 | Test Loss : 0.09609099477529526\n",
            "OrderedDict([('weights', tensor([0.4951])), ('bias', tensor([0.3863]))])\n",
            "Epoch: 430 | Train Loss: 0.038119442760944366 | Test Loss : 0.08850537240505219\n",
            "OrderedDict([('weights', tensor([0.5120])), ('bias', tensor([0.3788]))])\n",
            "Epoch: 440 | Train Loss: 0.034684743732213974 | Test Loss : 0.08023282885551453\n",
            "OrderedDict([('weights', tensor([0.5292])), ('bias', tensor([0.3718]))])\n",
            "Epoch: 450 | Train Loss: 0.03124595247209072 | Test Loss : 0.07264716178178787\n",
            "OrderedDict([('weights', tensor([0.5461])), ('bias', tensor([0.3643]))])\n",
            "Epoch: 460 | Train Loss: 0.027817506343126297 | Test Loss : 0.06437461078166962\n",
            "OrderedDict([('weights', tensor([0.5633])), ('bias', tensor([0.3573]))])\n",
            "Epoch: 470 | Train Loss: 0.024381116032600403 | Test Loss : 0.056102074682712555\n",
            "OrderedDict([('weights', tensor([0.5805])), ('bias', tensor([0.3503]))])\n",
            "Epoch: 480 | Train Loss: 0.0209440179169178 | Test Loss : 0.04851642996072769\n",
            "OrderedDict([('weights', tensor([0.5974])), ('bias', tensor([0.3428]))])\n",
            "Epoch: 490 | Train Loss: 0.017515579238533974 | Test Loss : 0.040243882685899734\n",
            "OrderedDict([('weights', tensor([0.6146])), ('bias', tensor([0.3358]))])\n"
          ]
        }
      ]
    },
    {
      "cell_type": "code",
      "source": [
        "# Trying to make some predictions\n",
        "\n",
        "with torch.inference_mode():\n",
        "  y_pred_new = model_0(X_test)"
      ],
      "metadata": {
        "id": "u_UkpK6ZJVnG"
      },
      "execution_count": null,
      "outputs": []
    },
    {
      "cell_type": "code",
      "source": [
        "plot_predictions(predictions=y_pred_new)"
      ],
      "metadata": {
        "colab": {
          "base_uri": "https://localhost:8080/",
          "height": 467
        },
        "id": "z0u2ueDSKQRi",
        "outputId": "ce0bfed7-0dc5-41ec-8d52-7d47b15d6a07"
      },
      "execution_count": null,
      "outputs": [
        {
          "output_type": "display_data",
          "data": {
            "text/plain": [
              "<Figure size 1000x700 with 1 Axes>"
            ],
            "image/png": "[encoded data removed]"
          },
          "metadata": {}
        }
      ]
    },
    {
      "cell_type": "markdown",
      "source": [
        "### Plotting the loss curves"
      ],
      "metadata": {
        "id": "ouN6xkXCRlIE"
      }
    },
    {
      "cell_type": "code",
      "source": [
        "import numpy as np\n",
        "\n",
        "np_training_loss_values = np.array(torch.tensor(training_loss_values).cpu().numpy())\n",
        "np_test_loss_values = np.array(torch.tensor(test_loss_values).cpu().numpy())"
      ],
      "metadata": {
        "id": "TaWJHGeGTENZ"
      },
      "execution_count": null,
      "outputs": []
    },
    {
      "cell_type": "code",
      "source": [
        "plt.plot(epoch_count, np_training_loss_values, label=\"Train loss\")\n",
        "plt.plot(epoch_count, np_test_loss_values, label=\"Test loss\")\n",
        "plt.title(\"Training and test loss curves\")\n",
        "plt.ylabel(\"Loss\")\n",
        "plt.xlabel(\"Epochs\")\n",
        "plt.legend()"
      ],
      "metadata": {
        "colab": {
          "base_uri": "https://localhost:8080/",
          "height": 490
        },
        "id": "kuBAdeTFSWtY",
        "outputId": "285382b4-c934-46e8-b5bc-bdf45ba8fd52"
      },
      "execution_count": null,
      "outputs": [
        {
          "output_type": "execute_result",
          "data": {
            "text/plain": [
              "<matplotlib.legend.Legend at 0x78f390ffc0a0>"
            ]
          },
          "metadata": {},
          "execution_count": 265
        },
        {
          "output_type": "display_data",
          "data": {
            "text/plain": [
              "<Figure size 640x480 with 1 Axes>"
            ],
            "image/png": "[encoded data removed]"
          },
          "metadata": {}
        }
      ]
    },
    {
      "cell_type": "markdown",
      "source": [
        "### Saving a model\n",
        "\n",
        "Methods to save a PyTorch object:\n",
        "- `torch.save()` - save a PyTorch object in Python's pickle format\n",
        "- `torch.load()` - allows you to load PyTorch object\n",
        "- `torch.nn.Module.load_state_dict()` - allows to load a model's saved state dictionary"
      ],
      "metadata": {
        "id": "8f6BfJCcTTIF"
      }
    },
    {
      "cell_type": "code",
      "source": [
        "# Saving our PyTorch model\n",
        "\n",
        "from pathlib import Path\n",
        "\n",
        "# 1. Create models directory\n",
        "\n",
        "MODEL_PATH = Path(\"models\")\n",
        "MODEL_PATH.mkdir(parents=True, exist_ok=True)\n",
        "\n",
        "# 2. Create model save path\n",
        "MODEL_NAME = \"pytorch_workflow__model_01.pth\"\n",
        "MODEL_SAVE_PATH = MODEL_PATH / MODEL_NAME\n",
        "\n",
        "MODEL_SAVE_PATH"
      ],
      "metadata": {
        "colab": {
          "base_uri": "https://localhost:8080/"
        },
        "id": "LqqZog4oVTQO",
        "outputId": "6ce1c79a-3807-44d0-d177-9d8d55fdf1ed"
      },
      "execution_count": null,
      "outputs": [
        {
          "output_type": "execute_result",
          "data": {
            "text/plain": [
              "PosixPath('models/pytorch_workflow__model_01.pth')"
            ]
          },
          "metadata": {},
          "execution_count": 266
        }
      ]
    },
    {
      "cell_type": "code",
      "source": [
        "# 3. Saving the model state dict\n",
        "\n",
        "# print(f\"Model saved to: {MODEL_SAVE_PATH}\")\n",
        "# torch.save(obj = model_0.state_dict(),\n",
        "#           f=MODEL_SAVE_PATH)"
      ],
      "metadata": {
        "colab": {
          "base_uri": "https://localhost:8080/"
        },
        "id": "F6_VQMVfWk7W",
        "outputId": "afcd4b05-81f0-4284-cb94-fe6a30826239"
      },
      "execution_count": null,
      "outputs": [
        {
          "output_type": "stream",
          "name": "stdout",
          "text": [
            "Model saved to: models/pytorch_workflow__model_01.pth\n"
          ]
        }
      ]
    },
    {
      "cell_type": "code",
      "source": [
        "!ls models"
      ],
      "metadata": {
        "colab": {
          "base_uri": "https://localhost:8080/"
        },
        "id": "AIdtNZc2XE7W",
        "outputId": "7d7b9053-dd0c-4248-d6fd-7d570e9d8566"
      },
      "execution_count": null,
      "outputs": [
        {
          "output_type": "stream",
          "name": "stdout",
          "text": [
            "pytorch_workflow__model_01.pth\n"
          ]
        }
      ]
    },
    {
      "cell_type": "markdown",
      "source": [
        "### Load the saved model"
      ],
      "metadata": {
        "id": "G1fXJx3pXuN6"
      }
    },
    {
      "cell_type": "code",
      "source": [
        "# To load in a saved state_dict, we need to instantiate a new instant of out model class\n",
        "loaded_model_0 = LinearRegressionModel()\n",
        "\n",
        "loaded_model_0.state_dict()"
      ],
      "metadata": {
        "colab": {
          "base_uri": "https://localhost:8080/"
        },
        "id": "lSmzw99xXNAQ",
        "outputId": "3f9bf374-aba9-45d5-de21-8b4ac1fd860f"
      },
      "execution_count": null,
      "outputs": [
        {
          "output_type": "execute_result",
          "data": {
            "text/plain": [
              "OrderedDict([('weights', tensor([0.3367])), ('bias', tensor([0.1288]))])"
            ]
          },
          "metadata": {},
          "execution_count": 269
        }
      ]
    },
    {
      "cell_type": "code",
      "source": [
        "loaded_model_0.load_state_dict(torch.load(f=MODEL_SAVE_PATH))\n",
        "loaded_model_0.state_dict()"
      ],
      "metadata": {
        "colab": {
          "base_uri": "https://localhost:8080/"
        },
        "id": "iOzcqorxYAU2",
        "outputId": "61e7e1ad-bab8-4177-9d1f-c4be4f43951c"
      },
      "execution_count": null,
      "outputs": [
        {
          "output_type": "stream",
          "name": "stderr",
          "text": [
            "<ipython-input-270-1b756775bd30>:1: FutureWarning: You are using `torch.load` with `weights_only=False` (the current default value), which uses the default pickle module implicitly. It is possible to construct malicious pickle data which will execute arbitrary code during unpickling (See https://github.com/pytorch/pytorch/blob/main/SECURITY.md#untrusted-models for more details). In a future release, the default value for `weights_only` will be flipped to `True`. This limits the functions that could be executed during unpickling. Arbitrary objects will no longer be allowed to be loaded via this mode unless they are explicitly allowlisted by the user via `torch.serialization.add_safe_globals`. We recommend you start setting `weights_only=True` for any use case where you don't have full control of the loaded file. Please open an issue on GitHub for any issues related to this experimental feature.\n",
            "  loaded_model_0.load_state_dict(torch.load(f=MODEL_SAVE_PATH))\n"
          ]
        },
        {
          "output_type": "execute_result",
          "data": {
            "text/plain": [
              "OrderedDict([('weights', tensor([0.6299])), ('bias', tensor([0.3293]))])"
            ]
          },
          "metadata": {},
          "execution_count": 270
        }
      ]
    },
    {
      "cell_type": "markdown",
      "source": [
        "### Putting all back together(Practice)"
      ],
      "metadata": {
        "id": "F4dS05kWYPI2"
      }
    },
    {
      "cell_type": "code",
      "source": [
        "# Imports\n",
        "import torch\n",
        "from torch import nn\n",
        "import matplotlib.pyplot as plt\n",
        "\n",
        "torch.__version__"
      ],
      "metadata": {
        "colab": {
          "base_uri": "https://localhost:8080/",
          "height": 36
        },
        "id": "LvG80UlSZU3H",
        "outputId": "7dcc57b9-d5e3-4afa-a941-91ce08d29d75"
      },
      "execution_count": 1,
      "outputs": [
        {
          "output_type": "execute_result",
          "data": {
            "text/plain": [
              "'2.4.0+cu121'"
            ],
            "application/vnd.google.colaboratory.intrinsic+json": {
              "type": "string"
            }
          },
          "metadata": {},
          "execution_count": 1
        }
      ]
    },
    {
      "cell_type": "code",
      "source": [
        "device = \"cuda\" if torch.cuda.is_available() else \"cpu\"\n",
        "print(f\"Device: {device}\")"
      ],
      "metadata": {
        "colab": {
          "base_uri": "https://localhost:8080/"
        },
        "id": "b6ZzSL8dZiGS",
        "outputId": "13ee171e-66e4-4a6e-ad64-0b49691589b4"
      },
      "execution_count": 2,
      "outputs": [
        {
          "output_type": "stream",
          "name": "stdout",
          "text": [
            "Device: cpu\n"
          ]
        }
      ]
    },
    {
      "cell_type": "code",
      "source": [
        "# Data creation\n",
        "\n",
        "X = torch.arange(40, 91, 4).unsqueeze(dim = 1)\n",
        "weights = 12.2\n",
        "bias = 5.6\n",
        "\n",
        "y = weights * X + bias\n",
        "print(f\"X: {X}\")\n",
        "print(f\"y: {y}\")"
      ],
      "metadata": {
        "colab": {
          "base_uri": "https://localhost:8080/"
        },
        "id": "PKWj7QeVZrSa",
        "outputId": "ce485123-e449-445c-f6bc-ad92cd811ad3"
      },
      "execution_count": 3,
      "outputs": [
        {
          "output_type": "stream",
          "name": "stdout",
          "text": [
            "X: tensor([[40],\n",
            "        [44],\n",
            "        [48],\n",
            "        [52],\n",
            "        [56],\n",
            "        [60],\n",
            "        [64],\n",
            "        [68],\n",
            "        [72],\n",
            "        [76],\n",
            "        [80],\n",
            "        [84],\n",
            "        [88]])\n",
            "y: tensor([[ 493.6000],\n",
            "        [ 542.4000],\n",
            "        [ 591.2000],\n",
            "        [ 639.9999],\n",
            "        [ 688.8000],\n",
            "        [ 737.6000],\n",
            "        [ 786.4000],\n",
            "        [ 835.2000],\n",
            "        [ 883.9999],\n",
            "        [ 932.8000],\n",
            "        [ 981.6000],\n",
            "        [1030.3999],\n",
            "        [1079.2000]])\n"
          ]
        }
      ]
    },
    {
      "cell_type": "code",
      "source": [
        "# Train/Test split\n",
        "\n",
        "split_ratio = 0.8 # 80:20 ratio\n",
        "split = int(split_ratio * len(X))\n",
        "X_train = X[:split]\n",
        "X_test = X[split : ]\n",
        "\n",
        "y_train = y[:split]\n",
        "y_test = y[split : ]\n",
        "\n",
        "\n",
        "X_train, X_test, y_train, y_test"
      ],
      "metadata": {
        "colab": {
          "base_uri": "https://localhost:8080/"
        },
        "id": "gPNFx2bqZ3mf",
        "outputId": "16bb6e59-85f4-4a74-8f58-0aa7ac844e67"
      },
      "execution_count": 4,
      "outputs": [
        {
          "output_type": "execute_result",
          "data": {
            "text/plain": [
              "(tensor([[40],\n",
              "         [44],\n",
              "         [48],\n",
              "         [52],\n",
              "         [56],\n",
              "         [60],\n",
              "         [64],\n",
              "         [68],\n",
              "         [72],\n",
              "         [76]]),\n",
              " tensor([[80],\n",
              "         [84],\n",
              "         [88]]),\n",
              " tensor([[493.6000],\n",
              "         [542.4000],\n",
              "         [591.2000],\n",
              "         [639.9999],\n",
              "         [688.8000],\n",
              "         [737.6000],\n",
              "         [786.4000],\n",
              "         [835.2000],\n",
              "         [883.9999],\n",
              "         [932.8000]]),\n",
              " tensor([[ 981.6000],\n",
              "         [1030.3999],\n",
              "         [1079.2000]]))"
            ]
          },
          "metadata": {},
          "execution_count": 4
        }
      ]
    },
    {
      "cell_type": "code",
      "source": [
        "# plotting predictions\n",
        "\n",
        "\n",
        "def plot_graph(X_train = X_train,\n",
        "               y_train = y_train,\n",
        "               X_test = X_test,\n",
        "               y_test = y_test,\n",
        "               predictions = None\n",
        "               ) :\n",
        "  import matplotlib.pyplot as plt\n",
        "\n",
        "\n",
        "  plt.scatter(X_train, y_train, c=\"b\")\n",
        "  plt.scatter(X_test, y_test, c=\"g\")\n",
        "\n",
        "  if(predictions != None):\n",
        "    plt.scatter(X_test, predictions, c=\"r\")\n"
      ],
      "metadata": {
        "id": "B34obOikarFn"
      },
      "execution_count": 21,
      "outputs": []
    },
    {
      "cell_type": "code",
      "source": [
        "plot_graph()"
      ],
      "metadata": {
        "colab": {
          "base_uri": "https://localhost:8080/",
          "height": 430
        },
        "id": "e9TM9olXgl11",
        "outputId": "0d825389-b4f5-4e07-a5fb-80ab74207e37"
      },
      "execution_count": 22,
      "outputs": [
        {
          "output_type": "display_data",
          "data": {
            "text/plain": [
              "<Figure size 640x480 with 1 Axes>"
            ],
            "image/png": "[encoded data removed]"
          },
          "metadata": {}
        }
      ]
    },
    {
      "cell_type": "code",
      "source": [
        "## Building the model\n",
        "\n",
        "from torch import nn\n",
        "\n",
        "class LinRegModel(nn.Module):\n",
        "  def __init__(self):\n",
        "    super().__init__()\n",
        "    self.weights = nn.Parameter(torch.randn(1,\n",
        "                                           dtype=torch.float32,\n",
        "                                           requires_grad=True))\n",
        "\n",
        "    self.bias = nn.Parameter(torch.randn(1,\n",
        "                                           dtype=torch.float32,\n",
        "                                           requires_grad=True))\n",
        "\n",
        "  def forward(self, x: torch.Tensor) -> torch.Tensor:\n",
        "    return x * self.weights + self.bias"
      ],
      "metadata": {
        "id": "w0GUn7nQgs66"
      },
      "execution_count": 37,
      "outputs": []
    },
    {
      "cell_type": "code",
      "source": [
        "model_lin_reg = LinRegModel()\n",
        "optimizer = torch.optim.SGD(model_lin_reg.parameters(), lr = 0.001)\n",
        "\n",
        "loss_fn = nn.L1Loss()"
      ],
      "metadata": {
        "id": "ZkkedfQzixlt"
      },
      "execution_count": 38,
      "outputs": []
    },
    {
      "cell_type": "code",
      "source": [
        "with torch.inference_mode():\n",
        "  orig_preds = model_lin_reg(X_test)\n",
        "  plot_graph(predictions=orig_preds)"
      ],
      "metadata": {
        "colab": {
          "base_uri": "https://localhost:8080/",
          "height": 430
        },
        "id": "YWNZKAJKneGV",
        "outputId": "8e4ca58f-e41d-4c86-fb5e-fc312cd94261"
      },
      "execution_count": 39,
      "outputs": [
        {
          "output_type": "display_data",
          "data": {
            "text/plain": [
              "<Figure size 640x480 with 1 Axes>"
            ],
            "image/png": "[encoded data removed]"
          },
          "metadata": {}
        }
      ]
    },
    {
      "cell_type": "code",
      "source": [
        "epochs = 400\n",
        "\n",
        "for epoch in range(epochs):\n",
        "  model_lin_reg.train()\n",
        "\n",
        "  model_pred = model_lin_reg(X_train)\n",
        "\n",
        "  model_loss = loss_fn(model_pred, y_train)\n",
        "\n",
        "  optimizer.zero_grad()\n",
        "\n",
        "  model_loss.backward()\n",
        "\n",
        "  optimizer.step()\n",
        "  model_lin_reg.eval()\n",
        "  if epoch % 10 == 0:\n",
        "    print(f\"Epoch: {epoch} | Loss : {model_loss}\")\n"
      ],
      "metadata": {
        "colab": {
          "base_uri": "https://localhost:8080/"
        },
        "id": "DlLRcfullx09",
        "outputId": "2f99b24f-6904-492b-95ee-e76d194a888e"
      },
      "execution_count": 41,
      "outputs": [
        {
          "output_type": "stream",
          "name": "stdout",
          "text": [
            "Epoch: 0 | Loss : 344.72393798828125\n",
            "Epoch: 10 | Loss : 311.0738525390625\n",
            "Epoch: 20 | Loss : 277.4237976074219\n",
            "Epoch: 30 | Loss : 243.77377319335938\n",
            "Epoch: 40 | Loss : 210.1240234375\n",
            "Epoch: 50 | Loss : 176.47421264648438\n",
            "Epoch: 60 | Loss : 142.82449340820312\n",
            "Epoch: 70 | Loss : 109.1747055053711\n",
            "Epoch: 80 | Loss : 75.52494049072266\n",
            "Epoch: 90 | Loss : 41.875152587890625\n",
            "Epoch: 100 | Loss : 8.225369453430176\n",
            "Epoch: 110 | Loss : 1.0231444835662842\n",
            "Epoch: 120 | Loss : 1.0631500482559204\n",
            "Epoch: 130 | Loss : 1.0311492681503296\n",
            "Epoch: 140 | Loss : 1.014154076576233\n",
            "Epoch: 150 | Loss : 1.018621802330017\n",
            "Epoch: 160 | Loss : 1.0791046619415283\n",
            "Epoch: 170 | Loss : 1.0571472644805908\n",
            "Epoch: 180 | Loss : 1.023077368736267\n",
            "Epoch: 190 | Loss : 1.014123558998108\n",
            "Epoch: 200 | Loss : 1.0185973644256592\n",
            "Epoch: 210 | Loss : 1.071038842201233\n",
            "Epoch: 220 | Loss : 1.0657989978790283\n",
            "Epoch: 230 | Loss : 1.0149993896484375\n",
            "Epoch: 240 | Loss : 1.014105200767517\n",
            "Epoch: 250 | Loss : 1.018579125404358\n",
            "Epoch: 260 | Loss : 1.062963843345642\n",
            "Epoch: 270 | Loss : 1.074456810951233\n",
            "Epoch: 280 | Loss : 1.00958251953125\n",
            "Epoch: 290 | Loss : 1.0140807628631592\n",
            "Epoch: 300 | Loss : 1.0185546875\n",
            "Epoch: 310 | Loss : 1.0482146739959717\n",
            "Epoch: 320 | Loss : 1.0228850841522217\n",
            "Epoch: 330 | Loss : 1.009558081626892\n",
            "Epoch: 340 | Loss : 1.0140411853790283\n",
            "Epoch: 350 | Loss : 1.0708343982696533\n",
            "Epoch: 360 | Loss : 1.0568878650665283\n",
            "Epoch: 370 | Loss : 1.014825463294983\n",
            "Epoch: 380 | Loss : 1.0095306634902954\n",
            "Epoch: 390 | Loss : 1.0140106678009033\n"
          ]
        }
      ]
    },
    {
      "cell_type": "code",
      "source": [
        "with torch.inference_mode():\n",
        "  orig_preds = model_lin_reg(X_test)\n",
        "  plot_graph(predictions=orig_preds)"
      ],
      "metadata": {
        "colab": {
          "base_uri": "https://localhost:8080/",
          "height": 430
        },
        "id": "E7ZnoUYltQg_",
        "outputId": "4aa21d5d-fd7c-45cc-8dca-cd419fd88695"
      },
      "execution_count": 42,
      "outputs": [
        {
          "output_type": "display_data",
          "data": {
            "text/plain": [
              "<Figure size 640x480 with 1 Axes>"
            ],
            "image/png": "[encoded data removed]"
          },
          "metadata": {}
        }
      ]
    },
    {
      "cell_type": "code",
      "source": [],
      "metadata": {
        "id": "P3xRj1E-vSep"
      },
      "execution_count": null,
      "outputs": []
    }
  ]
}